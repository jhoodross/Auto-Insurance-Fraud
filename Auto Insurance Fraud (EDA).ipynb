{
 "cells": [
  {
   "cell_type": "code",
   "execution_count": 367,
   "id": "aa6c489a",
   "metadata": {},
   "outputs": [],
   "source": [
    "import pandas as pd\n",
    "import numpy as np\n",
    "import matplotlib.pyplot as plt\n",
    "import seaborn as sns\n",
    "from ydata_profiling import ProfileReport\n",
    "pd.set_option('display.max_columns', None)\n",
    "pd.set_option('display.max_rows', None)"
   ]
  },
  {
   "cell_type": "code",
   "execution_count": 368,
   "id": "2a9631ba",
   "metadata": {},
   "outputs": [],
   "source": [
    "df = pd.read_csv('insurance_claims.csv')"
   ]
  },
  {
   "cell_type": "markdown",
   "id": "4346548f",
   "metadata": {},
   "source": [
    "# The EDA will be focused on determining correlations of 'Fraud Reported' within groups:  \n",
    "\n",
    "* Months as Customer  \n",
    "* Age  \n",
    "* State Policy Held In  \n",
    "* Insured Sex  \n",
    "* Insured Education Level   \n",
    "* Incident Date  \n",
    "* Incident Type  \n",
    "* State Incident Occurred In  \n",
    "* Number of Witnesses  \n",
    "* Total Claim Amount  \n"
   ]
  },
  {
   "cell_type": "markdown",
   "id": "a2f3079d",
   "metadata": {},
   "source": [
    "**All events in dataset occurred between January 1 2015 and March 1 2015**"
   ]
  },
  {
   "cell_type": "markdown",
   "id": "b51ba5ab",
   "metadata": {},
   "source": [
    "# Insured Age Analysis"
   ]
  },
  {
   "cell_type": "markdown",
   "id": "c053a7e8",
   "metadata": {},
   "source": [
    "**Segment customer's age to identify possible trends of fraud and visualize data**"
   ]
  },
  {
   "cell_type": "markdown",
   "id": "8f6ef6e9",
   "metadata": {},
   "source": [
    "**Customers over the age of 50 have the highest rate of fraud reported**  \n",
    "* Age range (19 - 30) = 23.35%      \n",
    "* Age range (31 - 40) = 23.74%      \n",
    "* Age range (41 - 50) = 24.57%      \n",
    "* Age range (51 - 60) = 31.25%      \n",
    "* Age range (61 - 64) = 27.78%      "
   ]
  },
  {
   "cell_type": "code",
   "execution_count": 238,
   "id": "95179cd4",
   "metadata": {},
   "outputs": [
    {
     "data": {
      "image/png": "[encoded data removed]",
      "text/plain": [
       "<Figure size 640x480 with 1 Axes>"
      ]
     },
     "metadata": {},
     "output_type": "display_data"
    }
   ],
   "source": [
    "# create a new dataframe with fraud counts for all age groups\n",
    "fraud_df = pd.DataFrame({\n",
    "    'Age Group': ['Under 30', '31-40', '41-50', '51-60', 'Over 61'],\n",
    "    'Fraud Reported': [fraud_counts[1], fraud_counts1[1], fraud_counts2[1], fraud_counts3[1], fraud_counts4[1]],\n",
    "    'Not Reported': [fraud_counts[0], fraud_counts1[0], fraud_counts2[0], fraud_counts3[0], fraud_counts4[0]]\n",
    "})\n",
    "\n",
    "# plot the data\n",
    "# fraud_df.plot(x='Age Group', y=['Fraud Reported', 'Not Reported'], kind='bar')\n",
    "fraud_df.plot(x='Age Group', y=['Fraud Reported'], kind='bar')\n",
    "\n",
    "plt.show()"
   ]
  },
  {
   "cell_type": "code",
   "execution_count": 209,
   "id": "992a51f3",
   "metadata": {},
   "outputs": [
    {
     "name": "stdout",
     "output_type": "stream",
     "text": [
      "Percent of Insured Under Age 31 Where Fraud Was Reported/Not Reported:\n",
      "Fraud           Percent   \n",
      "Reported        23.35%\n",
      "Not Reported    76.65%\n",
      "\n",
      "Number of Insured Under Age of 30:\n",
      "197\n",
      "-------------------------------------------------------------------------------------\n"
     ]
    }
   ],
   "source": [
    "\"\"\"In age group under 31, percentage of insurance claims where fraud was either reported\n",
    "   or not reported as well as total of the group\"\"\"\n",
    "\n",
    "# Create/Print variable for percentage of (fraud/no fraud) reported in customer group\n",
    "fraud_counts = df[df.age <= 30].fraud_reported.value_counts(normalize=True)\n",
    "print('Percent of Insured Under Age 31 Where Fraud Was Reported/Not Reported:')\n",
    "print('{:<15} {:<10}'.format('Fraud', 'Percent'))\n",
    "print('{:<15} {:.2%}'.format('Reported', fraud_counts.values[1]))\n",
    "print('{:<15} {:.2%}'.format('Not Reported', fraud_counts.values[0]))\n",
    "\n",
    "# Number of Insured in this age group\n",
    "print('\\nNumber of Insured Under Age of 30:')\n",
    "print((df.age <= 30).sum())\n",
    "print('-------------------------------------------------------------------------------------')"
   ]
  },
  {
   "cell_type": "code",
   "execution_count": 210,
   "id": "9152ee07",
   "metadata": {},
   "outputs": [
    {
     "name": "stdout",
     "output_type": "stream",
     "text": [
      "Percent of Insured Age Group 31 - 40 Where Fraud Was Reported/Not Reported:\n",
      "Fraud           Percent   \n",
      "Reported        23.74%\n",
      "Not Reported    76.26%\n",
      "\n",
      "Number of Insured Ages 31 - 40:\n",
      "396\n",
      "-------------------------------------------------------------------------------------\n"
     ]
    }
   ],
   "source": [
    "\"\"\"In age group 31 - 40, percentage of insurance claims where fraud was either reported\n",
    "   or not reported as well as total of the group\"\"\"\n",
    "\n",
    "# Create/Print variable for percentage of (fraud/no fraud) reported in customer group\n",
    "fraud_counts1 = df[(df.age >= 31) & (df.age <= 40)].fraud_reported.value_counts(normalize=1)\n",
    "print('Percent of Insured Age Group 31 - 40 Where Fraud Was Reported/Not Reported:') \n",
    "print('{:<15} {:<10}'.format('Fraud', 'Percent')) \n",
    "print('{:<15} {:.2%}'.format('Reported', fraud_counts1[1])) \n",
    "print('{:<15} {:.2%}'.format('Not Reported', fraud_counts1[0]))\n",
    "\n",
    "# Number of Insured in this age group\n",
    "print('\\nNumber of Insured Ages 31 - 40:') \n",
    "print(((df.age >= 31) & (df.age <= 40)).sum())\n",
    "print('-------------------------------------------------------------------------------------')"
   ]
  },
  {
   "cell_type": "code",
   "execution_count": 211,
   "id": "31dfd48a",
   "metadata": {},
   "outputs": [
    {
     "name": "stdout",
     "output_type": "stream",
     "text": [
      "Percent of Insured Age Group 41 - 50 Where Fraud Was Reported/Not Reported:\n",
      "Fraud           Percent   \n",
      "Reported        24.57%\n",
      "Not Reported    75.43%\n",
      "\n",
      "Number of Insured Ages 41 - 50:\n",
      "293\n",
      "-------------------------------------------------------------------------------------\n"
     ]
    }
   ],
   "source": [
    "\"\"\"In age group 41 - 50, percentage of insurance claims where fraud was either reported\n",
    "   or not reported as well as total of the group\"\"\"\n",
    "\n",
    "# Create/Print variable for percentage of (fraud/no fraud) reported in customer group\n",
    "fraud_counts2 = df[(df.age >= 41) & (df.age <= 50)].fraud_reported.value_counts(normalize=1) \n",
    "print('Percent of Insured Age Group 41 - 50 Where Fraud Was Reported/Not Reported:')\n",
    "print('{:<15} {:<10}'.format('Fraud', 'Percent')) \n",
    "print('{:<15} {:.2%}'.format('Reported', fraud_counts2[1])) \n",
    "print('{:<15} {:.2%}'.format('Not Reported', fraud_counts2[0])) \n",
    "\n",
    "# Number of Insured in this age group\n",
    "print('\\nNumber of Insured Ages 41 - 50:') \n",
    "print(((df.age >= 41) & (df.age <= 50)).sum())\n",
    "print('-------------------------------------------------------------------------------------')"
   ]
  },
  {
   "cell_type": "code",
   "execution_count": 212,
   "id": "44b0de0d",
   "metadata": {},
   "outputs": [
    {
     "name": "stdout",
     "output_type": "stream",
     "text": [
      "Percent of Insured Age Group 51 - 60 Where Fraud Was Reported/Not Reported:\n",
      "Fraud           Percent   \n",
      "Reported        31.25%\n",
      "Not Reported    68.75%\n",
      "\n",
      "Number of Insured Ages 51 - 60:\n",
      "96\n",
      "-------------------------------------------------------------------------------------\n"
     ]
    }
   ],
   "source": [
    "\"\"\"In age group 51 - 60, percentage of insurance claims where fraud was either reported\n",
    "   or not reported as well as total of the group\"\"\"\n",
    "\n",
    "# Create/Print variable for percentage of (fraud/no fraud) reported in customer group\n",
    "fraud_counts3 = df[(df.age >= 51) & (df.age <= 60)].fraud_reported.value_counts(normalize=True) \n",
    "print('Percent of Insured Age Group 51 - 60 Where Fraud Was Reported/Not Reported:')\n",
    "print('{:<15} {:<10}'.format('Fraud', 'Percent')) \n",
    "print('{:<15} {:.2%}'.format('Reported', fraud_counts3[1]))\n",
    "print('{:<15} {:.2%}'.format('Not Reported', fraud_counts3[0])) \n",
    "\n",
    "# Number of Insured in this age group\n",
    "print('\\nNumber of Insured Ages 51 - 60:') \n",
    "print(((df.age >= 51) & (df.age <= 60)).sum())\n",
    "print('-------------------------------------------------------------------------------------')"
   ]
  },
  {
   "cell_type": "code",
   "execution_count": 213,
   "id": "bdb81f21",
   "metadata": {},
   "outputs": [
    {
     "name": "stdout",
     "output_type": "stream",
     "text": [
      "Percent of Insured Age Group Over 61 Where Fraud Was Reported/Not Reported:\n",
      "Fraud           Percent   \n",
      "Reported        27.78%\n",
      "Not Reported    72.22%\n",
      "\n",
      "Number of Insured Ages Over 61:\n",
      "992\n",
      "-------------------------------------------------------------------------------------\n"
     ]
    }
   ],
   "source": [
    "\"\"\"In age group over 61, percentage of insurance claims where fraud was either reported\n",
    "   or not reported as well as total of the group\"\"\"\n",
    "\n",
    "# Create/Print variable for percentage of (fraud/no fraud) reported in customer group\n",
    "fraud_counts4 = df[(df.age >= 61)].fraud_reported.value_counts(normalize=1) \n",
    "print('Percent of Insured Age Group Over 61 Where Fraud Was Reported/Not Reported:')\n",
    "print('{:<15} {:<10}'.format('Fraud', 'Percent')) \n",
    "print('{:<15} {:.2%}'.format('Reported', fraud_counts4[1])) \n",
    "print('{:<15} {:.2%}'.format('Not Reported', fraud_counts4[0]))\n",
    "\n",
    "# Number of Insured in this age group\n",
    "print('\\nNumber of Insured Ages Over 61:') \n",
    "print((df.age <=61).sum())\n",
    "print('-------------------------------------------------------------------------------------')"
   ]
  },
  {
   "cell_type": "markdown",
   "id": "5c406035",
   "metadata": {},
   "source": [
    "# Insured Length as Customer Analysis"
   ]
  },
  {
   "cell_type": "markdown",
   "id": "f48897b9",
   "metadata": {},
   "source": [
    "**Segment customers by length of coverage, by 5 year segments, to identify possible trends of fraud and visualize data** \n",
    "\n",
    "**Customers insured 26 or more years have the highest rate of fraud reported**  \n",
    "\n",
    "* Up To 5 years = 24.51%  \n",
    "* 6 - 10 years  = 25.47%    \n",
    "* 11 - 15 years = 24.47%    \n",
    "* 16 - 20 years = 23.39%  \n",
    "* 21 - 25 years = 21.63%  \n",
    "* 26 - 30 years = 27.87%  \n",
    "* 31 - 35 years = 32.65%  \n",
    "* Over 35 years = 28.33%  "
   ]
  },
  {
   "cell_type": "code",
   "execution_count": 242,
   "id": "b6268b41",
   "metadata": {},
   "outputs": [
    {
     "data": {
      "image/png": "[encoded data removed]",
      "text/plain": [
       "<Figure size 640x480 with 1 Axes>"
      ]
     },
     "metadata": {},
     "output_type": "display_data"
    }
   ],
   "source": [
    "# Create new dataframe for fraud visualization\n",
    "term = pd.DataFrame({\n",
    "    'Term': ['Up To 5', '6-10', '11-15', '16-20', '21-25', '26-30', '31-35', '36+'],\n",
    "    'Fraud Reported': [months[1], months1[1], months2[1], months3[1], months4[1], months5[1], months6[1], months7[1]],\n",
    "    'Not Reported': [months[0], months1[0], months2[0], months3[0], months4[0], months5[0], months6[0], months7[0]]\n",
    "})\n",
    "\n",
    "# plot the data\n",
    "term.plot(x='Term', y=['Fraud Reported'], kind='bar')\n",
    "plt.show()"
   ]
  },
  {
   "cell_type": "code",
   "execution_count": 214,
   "id": "97ba7ead",
   "metadata": {},
   "outputs": [
    {
     "name": "stdout",
     "output_type": "stream",
     "text": [
      "Percent of Group Insured Up To 5 Years Where Fraud Was Reported/Not Reported:\n",
      "Fraud           Percent   \n",
      "Reported        24.51%\n",
      "Not Reported    75.49%\n",
      "\n",
      "Number of Customers Insured Up To 5 Years:\n",
      "102\n",
      "-------------------------------------------------------------------------------------\n"
     ]
    }
   ],
   "source": [
    "\"\"\"In group insured up to 5 years, percentage of insurance claims where fraud was either reported\n",
    "   or not reported as well as total of the group\"\"\"\n",
    "\n",
    "# Create/print variable for percentage of (fraud/no fraud) reported in customer group\n",
    "months = df[df.months_as_customer <= 60].fraud_reported.value_counts(normalize=1)  \n",
    "print('Percent of Group Insured Up To 5 Years Where Fraud Was Reported/Not Reported:')\n",
    "print('{:<15} {:<10}'.format('Fraud', 'Percent'))\n",
    "print('{:<15} {:.2%}'.format('Reported', months[1]))\n",
    "print('{:<15} {:.2%}'.format('Not Reported', months[0]))\n",
    "\n",
    "# Number of Customers Insured in this group\n",
    "print('\\nNumber of Customers Insured Up To 5 Years:') \n",
    "print((df.months_as_customer <= 60).sum())\n",
    "print('-------------------------------------------------------------------------------------')"
   ]
  },
  {
   "cell_type": "code",
   "execution_count": 215,
   "id": "34b3e61c",
   "metadata": {},
   "outputs": [
    {
     "name": "stdout",
     "output_type": "stream",
     "text": [
      "Percent of Group Insured 6 - 10 Years Where Fraud Was Reported/Not Reported:\n",
      "Fraud           Percent   \n",
      "Reported        25.47%\n",
      "Not Reported    74.53%\n",
      "\n",
      "Number of Customers Insured 6 - 10 Years:\n",
      "161\n",
      "-------------------------------------------------------------------------------------\n"
     ]
    }
   ],
   "source": [
    "\"\"\"In group insured 6 - 10 years, percentage of insurance claims where fraud was either reported\n",
    "   or not reported as well as total of the group\"\"\"\n",
    "\n",
    "# Create/print variable for percentage of (fraud/no fraud) reported in customer group\n",
    "months1 = df[(df.months_as_customer >= 61) & (df.months_as_customer <= 120)].fraud_reported.value_counts(normalize=1) \n",
    "print('Percent of Group Insured 6 - 10 Years Where Fraud Was Reported/Not Reported:') \n",
    "print('{:<15} {:<10}'.format('Fraud', 'Percent')) \n",
    "print('{:<15} {:.2%}'.format('Reported', months1[1])) \n",
    "print('{:<15} {:.2%}'.format('Not Reported', months1[0]))\n",
    "\n",
    "# Number of Insured in this age group\n",
    "print('\\nNumber of Customers Insured 6 - 10 Years:') \n",
    "print(((df.months_as_customer >= 61) & (df.months_as_customer <= 120)).sum())\n",
    "print('-------------------------------------------------------------------------------------')"
   ]
  },
  {
   "cell_type": "code",
   "execution_count": 216,
   "id": "b72c2949",
   "metadata": {},
   "outputs": [
    {
     "name": "stdout",
     "output_type": "stream",
     "text": [
      "Percent of Group Insured 11 - 15 Years Where Fraud Was Reported/Not Reported:\n",
      "Fraud           Percent   \n",
      "Reported        24.47%\n",
      "Not Reported    75.53%\n",
      "\n",
      "Number of Customers Insured 11 - 15 Years:\n",
      "188\n",
      "-------------------------------------------------------------------------------------\n"
     ]
    }
   ],
   "source": [
    "\"\"\"In group insured 11 - 15 years, percentage of insurance claims where fraud was either reported\n",
    "   or not reported as well as total of the group\"\"\"\n",
    "\n",
    "# Create/print variable for percentage of (fraud/no fraud) reported in customer group\n",
    "months2 = df[(df.months_as_customer >= 121) & (df.months_as_customer <= 180)].fraud_reported.value_counts(normalize=1)  \n",
    "print('Percent of Group Insured 11 - 15 Years Where Fraud Was Reported/Not Reported:') \n",
    "print('{:<15} {:<10}'.format('Fraud', 'Percent'))\n",
    "print('{:<15} {:.2%}'.format('Reported', months2[1]))\n",
    "print('{:<15} {:.2%}'.format('Not Reported', months2[0]))\n",
    "\n",
    "# Number of Insured in this age group\n",
    "print('\\nNumber of Customers Insured 11 - 15 Years:') \n",
    "print(((df.months_as_customer >= 121) & (df.months_as_customer <= 180)).sum())\n",
    "print('-------------------------------------------------------------------------------------')"
   ]
  },
  {
   "cell_type": "code",
   "execution_count": 217,
   "id": "3c13ccaa",
   "metadata": {},
   "outputs": [
    {
     "name": "stdout",
     "output_type": "stream",
     "text": [
      "Percent of Group Insured 16 - 20 Years Where Fraud Was Reported/Not Reported:\n",
      "Fraud           Percent   \n",
      "Reported        23.39%\n",
      "Not Reported    76.61%\n",
      "\n",
      "Number of Customers Insured 16 - 20 Years:\n",
      "171\n",
      "-------------------------------------------------------------------------------------\n"
     ]
    }
   ],
   "source": [
    "\"\"\"In group insured 16 - 20 years, percentage of insurance claims where fraud was either reported\n",
    "   or not reported as well as total of the group\"\"\"\n",
    "\n",
    "# Create/print variable for percentage of (fraud/no fraud) reported in customer group\n",
    "months3 = df[(df.months_as_customer >= 181) & (df.months_as_customer <= 240)].fraud_reported.value_counts(normalize=1) \n",
    "print('Percent of Group Insured 16 - 20 Years Where Fraud Was Reported/Not Reported:') \n",
    "print('{:<15} {:<10}'.format('Fraud', 'Percent')) \n",
    "print('{:<15} {:.2%}'.format('Reported', months3[1])) \n",
    "print('{:<15} {:.2%}'.format('Not Reported', months3[0])) \n",
    "\n",
    "# Number of Insured in this age group\n",
    "print('\\nNumber of Customers Insured 16 - 20 Years:') \n",
    "print(((df.months_as_customer >= 181) & (df.months_as_customer <= 240)).sum())\n",
    "print('-------------------------------------------------------------------------------------')"
   ]
  },
  {
   "cell_type": "code",
   "execution_count": 218,
   "id": "6fe8efbb",
   "metadata": {},
   "outputs": [
    {
     "name": "stdout",
     "output_type": "stream",
     "text": [
      "Percent of Group Insured 21 - 25 Years Where Fraud Was Reported/Not Reported:\n",
      "Fraud           Percent   \n",
      "Reported        21.63%\n",
      "Not Reported    78.37%\n",
      "\n",
      "Number of Customers Insured 21 - 25 Years:\n",
      "208\n",
      "-------------------------------------------------------------------------------------\n"
     ]
    }
   ],
   "source": [
    "\"\"\"In group insured 21 - 25 years, percentage of insurance claims where fraud was either reported\n",
    "   or not reported as well as total of the group\"\"\"\n",
    "\n",
    "# Create/print variable for percentage of (fraud/no fraud) reported in customer group\n",
    "months4 = df[(df.months_as_customer >= 241) & (df.months_as_customer <= 300)].fraud_reported.value_counts(normalize=1)  \n",
    "print('Percent of Group Insured 21 - 25 Years Where Fraud Was Reported/Not Reported:') \n",
    "print('{:<15} {:<10}'.format('Fraud', 'Percent')) \n",
    "print('{:<15} {:.2%}'.format('Reported', months4[1])) \n",
    "print('{:<15} {:.2%}'.format('Not Reported', months4[0]))\n",
    "\n",
    "# Number of Insured in this age group\n",
    "print('\\nNumber of Customers Insured 21 - 25 Years:') \n",
    "print(((df.months_as_customer >= 241) & (df.months_as_customer <= 300)).sum())\n",
    "print('-------------------------------------------------------------------------------------')"
   ]
  },
  {
   "cell_type": "code",
   "execution_count": 219,
   "id": "bb490bc2",
   "metadata": {},
   "outputs": [
    {
     "name": "stdout",
     "output_type": "stream",
     "text": [
      "Percent of Group Insured 26 - 30 Years Where Fraud Was Reported/Not Reported:\n",
      "Fraud           Percent   \n",
      "Reported        27.87%\n",
      "Not Reported    72.13%\n",
      "\n",
      "Number of Customers Insured 26 - 30 Years:\n",
      "61\n",
      "-------------------------------------------------------------------------------------\n"
     ]
    }
   ],
   "source": [
    "\"\"\"In group insured 26 - 30 years, percentage of insurance claims where fraud was either reported\n",
    "   or not reported as well as total of the group\"\"\"\n",
    "\n",
    "# Create/print variable for percentage of (fraud/no fraud) reported in customer group\n",
    "months5 = df[(df.months_as_customer >= 301) & (df.months_as_customer <= 360)].fraud_reported.value_counts(normalize=1)  \n",
    "print('Percent of Group Insured 26 - 30 Years Where Fraud Was Reported/Not Reported:') \n",
    "print('{:<15} {:<10}'.format('Fraud', 'Percent')) \n",
    "print('{:<15} {:.2%}'.format('Reported', months5[1])) \n",
    "print('{:<15} {:.2%}'.format('Not Reported', months5[0]))\n",
    "\n",
    "# Number of Insured in this age group\n",
    "print('\\nNumber of Customers Insured 26 - 30 Years:') \n",
    "print(((df.months_as_customer >= 301) & (df.months_as_customer <= 360)).sum())\n",
    "print('-------------------------------------------------------------------------------------')"
   ]
  },
  {
   "cell_type": "code",
   "execution_count": 220,
   "id": "65ff4f1c",
   "metadata": {},
   "outputs": [
    {
     "name": "stdout",
     "output_type": "stream",
     "text": [
      "Percent of Group Insured 31 - 35 Years Where Fraud Was Reported/Not Reported:\n",
      "Fraud           Percent   \n",
      "Reported        32.65%\n",
      "Not Reported    67.35%\n",
      "\n",
      "Number of Customers Insured 31 - 35 Years:\n",
      "49\n",
      "-------------------------------------------------------------------------------------\n"
     ]
    }
   ],
   "source": [
    "\"\"\"In group insured 31 - 35 years, percentage of insurance claims where fraud was either reported\n",
    "   or not reported as well as total of the group\"\"\"\n",
    "\n",
    "# Create/print variable for percentage of (fraud/no fraud) reported in customer group\n",
    "months6 = df[(df.months_as_customer >= 361) & (df.months_as_customer <= 420)].fraud_reported.value_counts(normalize=1) \n",
    "print('Percent of Group Insured 31 - 35 Years Where Fraud Was Reported/Not Reported:') \n",
    "print('{:<15} {:<10}'.format('Fraud', 'Percent')) \n",
    "print('{:<15} {:.2%}'.format('Reported', months6[1])) \n",
    "print('{:<15} {:.2%}'.format('Not Reported', months6[0])) \n",
    "\n",
    "# Number of Insured in this age group\n",
    "print('\\nNumber of Customers Insured 31 - 35 Years:') \n",
    "print(((df.months_as_customer >= 361) & (df.months_as_customer <= 420)).sum()) \n",
    "print('-------------------------------------------------------------------------------------')"
   ]
  },
  {
   "cell_type": "code",
   "execution_count": 221,
   "id": "82e8a93e",
   "metadata": {},
   "outputs": [
    {
     "name": "stdout",
     "output_type": "stream",
     "text": [
      "Percent of Group Insured Over 36 Years Where Fraud Was Reported/Not Reported:\n",
      "Fraud           Percent   \n",
      "Reported        28.33%\n",
      "Not Reported    71.67%\n",
      "\n",
      "Number of Customers Insured Over 36 Years:\n",
      "60\n",
      "-------------------------------------------------------------------------------------\n"
     ]
    }
   ],
   "source": [
    "\"\"\"In group insured over 36, percentage of insurance claims where fraud was either reported\n",
    "   or not reported as well as total of the group\"\"\"\n",
    "\n",
    "# Create/print variable for percentage of (fraud/no fraud) reported in customer group\n",
    "months7 = df[(df.months_as_customer > 420)].fraud_reported.value_counts(normalize=1) \n",
    "print('Percent of Group Insured Over 36 Years Where Fraud Was Reported/Not Reported:')  \n",
    "print('{:<15} {:<10}'.format('Fraud', 'Percent')) \n",
    "print('{:<15} {:.2%}'.format('Reported', months7[1])) \n",
    "print('{:<15} {:.2%}'.format('Not Reported', months7[0]))\n",
    "\n",
    "# Number of Insured in this age group\n",
    "print('\\nNumber of Customers Insured Over 36 Years:') \n",
    "print(((df.months_as_customer > 420)).sum())\n",
    "print('-------------------------------------------------------------------------------------')"
   ]
  },
  {
   "cell_type": "markdown",
   "id": "21ddd660",
   "metadata": {},
   "source": [
    "# State Policy Held In Analysis"
   ]
  },
  {
   "cell_type": "markdown",
   "id": "428996f8",
   "metadata": {},
   "source": [
    "**Segment customers per state insured, OH/IL/IN, to identify possible trends of fraud by state and visualize data** \n"
   ]
  },
  {
   "cell_type": "markdown",
   "id": "9a0f0f5b",
   "metadata": {},
   "source": [
    "**Customers Held Policies in 3 US States:**  \n",
    "* Ohio has 352 or 35.2% of customers with 25.85% of fraud reported claims  \n",
    "* Illinois has 338 or 33.8% of customers with 22.78% of fraud reported claims  \n",
    "* Indiana has 310 or 31% of customers with 25.48% of fraud reported claims  "
   ]
  },
  {
   "cell_type": "code",
   "execution_count": 243,
   "id": "2a904279",
   "metadata": {},
   "outputs": [
    {
     "data": {
      "image/png": "[encoded data removed]",
      "text/plain": [
       "<Figure size 640x480 with 1 Axes>"
      ]
     },
     "metadata": {},
     "output_type": "display_data"
    }
   ],
   "source": [
    "# create a new dataframe with fraud counts for all state groups\n",
    "state_df = pd.DataFrame({\n",
    "    'State': ['OH', 'IL', 'IN'],\n",
    "    'Fraud Reported': [state[1], state1[1], state2[1]],\n",
    "    'Not Reported': [state[0], state1[0], state2[0]]\n",
    "})\n",
    "\n",
    "# plot the data\n",
    "state_df.plot(x='State', y=['Fraud Reported'], kind='bar')\n",
    "plt.show()"
   ]
  },
  {
   "cell_type": "code",
   "execution_count": 222,
   "id": "4de5f7eb",
   "metadata": {},
   "outputs": [
    {
     "name": "stdout",
     "output_type": "stream",
     "text": [
      "Percent of Group Insured in Ohio Where Fraud Was Reported/Not Reported:\n",
      "Fraud           Percent   \n",
      "Reported        25.85%\n",
      "Not Reported    74.15%\n",
      "\n",
      "Number of Customers Insured In Ohio:\n",
      "352\n",
      "-------------------------------------------------------------------------------------\n"
     ]
    }
   ],
   "source": [
    "\"\"\"In group insured in Ohio, percentage of insurance claims where fraud was either reported\n",
    "   or not reported as well as total of the group\"\"\"\n",
    "\n",
    "# Create/print variable for percentage of (fraud/no fraud) reported in customer group\n",
    "state = df[df.policy_state == 'OH'].fraud_reported.value_counts(normalize=1)\n",
    "print('Percent of Group Insured in Ohio Where Fraud Was Reported/Not Reported:')  \n",
    "print('{:<15} {:<10}'.format('Fraud', 'Percent')) \n",
    "print('{:<15} {:.2%}'.format('Reported', state[1]))\n",
    "print('{:<15} {:.2%}'.format('Not Reported', state[0]))\n",
    "\n",
    "# Number of Insured in this group\n",
    "print('\\nNumber of Customers Insured In Ohio:')  \n",
    "print((df.policy_state == 'OH').sum())\n",
    "print('-------------------------------------------------------------------------------------')"
   ]
  },
  {
   "cell_type": "code",
   "execution_count": 223,
   "id": "1e5e7378",
   "metadata": {},
   "outputs": [
    {
     "name": "stdout",
     "output_type": "stream",
     "text": [
      "Percent of Group Insured in Illinois Where Fraud Was Reported/Not Reported:\n",
      "Fraud           Percent   \n",
      "Reported        22.78%\n",
      "Not Reported    77.22%\n",
      "\n",
      "Number of Customers Insured In Illinois:\n",
      "338\n",
      "-------------------------------------------------------------------------------------\n"
     ]
    }
   ],
   "source": [
    "\"\"\"In group insured in Illinois, percentage of insurance claims where fraud was either reported\n",
    "   or not reported as well as total of the group\"\"\"\n",
    "\n",
    "# Create/print variable for percentage of (fraud/no fraud) reported in customer group\n",
    "state1 = df[df.policy_state == 'IL'].fraud_reported.value_counts(normalize=1)\n",
    "print('Percent of Group Insured in Illinois Where Fraud Was Reported/Not Reported:')  \n",
    "print('{:<15} {:<10}'.format('Fraud', 'Percent')) \n",
    "print('{:<15} {:.2%}'.format('Reported', state1[1])) \n",
    "print('{:<15} {:.2%}'.format('Not Reported', state1[0])) \n",
    "\n",
    "# Number of Insured in this group\n",
    "print('\\nNumber of Customers Insured In Illinois:')  \n",
    "print((df.policy_state == 'IL').sum())\n",
    "print('-------------------------------------------------------------------------------------')"
   ]
  },
  {
   "cell_type": "code",
   "execution_count": 224,
   "id": "13242654",
   "metadata": {},
   "outputs": [
    {
     "name": "stdout",
     "output_type": "stream",
     "text": [
      "Percent of Group Insured in Indiana Where Fraud Was Reported/Not Reported:\n",
      "Fraud           Percent   \n",
      "Reported        25.48%\n",
      "Not Reported    74.52%\n",
      "\n",
      "Number of Customers Insured In Indiana:\n",
      "310\n",
      "-------------------------------------------------------------------------------------\n"
     ]
    }
   ],
   "source": [
    "\"\"\"In group insured in Indiana, percentage of insurance claims where fraud was either reported\n",
    "   or not reported as well as total of the group\"\"\"\n",
    "\n",
    "# Create/print variable for percentage of (fraud/no fraud) reported in customer group\n",
    "state2 = df[df.policy_state == 'IN'].fraud_reported.value_counts(normalize=1)\n",
    "print('Percent of Group Insured in Indiana Where Fraud Was Reported/Not Reported:') \n",
    "print('{:<15} {:<10}'.format('Fraud', 'Percent')) \n",
    "print('{:<15} {:.2%}'.format('Reported', state2[1])) \n",
    "print('{:<15} {:.2%}'.format('Not Reported', state2[0]))\n",
    "\n",
    "\n",
    "# Number of Insured in this group\n",
    "print('\\nNumber of Customers Insured In Indiana:')  \n",
    "print((df.policy_state == 'IN').sum())\n",
    "print('-------------------------------------------------------------------------------------')"
   ]
  },
  {
   "cell_type": "markdown",
   "id": "f5e15650",
   "metadata": {},
   "source": [
    "# Insured Gender Analysis"
   ]
  },
  {
   "cell_type": "markdown",
   "id": "73c4bb38",
   "metadata": {},
   "source": [
    "**Segment customers, per gender, to identify possible trends of fraud and visualize data**   \n",
    "* Males are 463 or 46.3% of customers   \n",
    "* Females are 537 or 53.7% of customers\n",
    "\n"
   ]
  },
  {
   "cell_type": "markdown",
   "id": "89d43cc0",
   "metadata": {},
   "source": [
    "**Males had a higher rate of fraud reported than females**\n",
    "* Males = 26.13%  \n",
    "* Females = 23.46%"
   ]
  },
  {
   "cell_type": "code",
   "execution_count": 370,
   "id": "b10ef9e9",
   "metadata": {},
   "outputs": [
    {
     "data": {
      "image/png": "[encoded data removed]",
      "text/plain": [
       "<Figure size 640x480 with 1 Axes>"
      ]
     },
     "metadata": {},
     "output_type": "display_data"
    }
   ],
   "source": [
    "# Create new dataframe for fraud visualization\n",
    "gender = pd.DataFrame({\n",
    "    'Gender': ['Male', 'Female'],\n",
    "    'Fraud Reported': [male[1], female[1]],\n",
    "    'Not Reported': [male[0], female[0]]\n",
    "})\n",
    "\n",
    "# plot the data\n",
    "gender.plot(x='Gender', y=['Fraud Reported'], kind='bar')\n",
    "plt.show()"
   ]
  },
  {
   "cell_type": "code",
   "execution_count": 225,
   "id": "aebbe8e6",
   "metadata": {},
   "outputs": [
    {
     "name": "stdout",
     "output_type": "stream",
     "text": [
      "Percent of Group Insured in Indiana Where Fraud Was Reported/Not Reported:\n",
      "Fraud           Percent   \n",
      "Reported        26.13%\n",
      "Not Reported    73.87%\n",
      "\n",
      "Number of Male Customers:\n",
      "463\n",
      "-------------------------------------------------------------------------------------\n"
     ]
    }
   ],
   "source": [
    "\"\"\"In male customers, percentage of insurance claims where fraud was either reported\n",
    "   or not reported as well as total of the group\"\"\"\n",
    "\n",
    "# Create/print variable for percentage of (fraud/no fraud) reported in customer group\n",
    "male = df[df.insured_sex == 'MALE'].fraud_reported.value_counts(normalize=1)\n",
    "print('Percent of Group Insured in Indiana Where Fraud Was Reported/Not Reported:') \n",
    "print('{:<15} {:<10}'.format('Fraud', 'Percent')) \n",
    "print('{:<15} {:.2%}'.format('Reported', male[1])) \n",
    "print('{:<15} {:.2%}'.format('Not Reported', male[0]))\n",
    "\n",
    "# Number of Insured in this group\n",
    "print('\\nNumber of Male Customers:')  \n",
    "print((df.insured_sex == 'MALE').sum())\n",
    "print('-------------------------------------------------------------------------------------')"
   ]
  },
  {
   "cell_type": "code",
   "execution_count": 226,
   "id": "b95e9a9e",
   "metadata": {},
   "outputs": [
    {
     "name": "stdout",
     "output_type": "stream",
     "text": [
      "Percent of Female Customers Where Fraud Was Reported/Not Reported:\n",
      "Fraud           Percent   \n",
      "Reported        23.46%\n",
      "Not Reported    76.54%\n",
      "\n",
      "Number of Female Customers:\n",
      "537\n",
      "-------------------------------------------------------------------------------------\n"
     ]
    }
   ],
   "source": [
    "\"\"\"In female customers, percentage of insurance claims where fraud was either reported\n",
    "   or not reported as well as total of the group\"\"\"\n",
    "\n",
    "# Create/print variable for percentage of (fraud/no fraud) reported in customer group\n",
    "female = df[df.insured_sex == 'FEMALE'].fraud_reported.value_counts(normalize=1)\n",
    "print('Percent of Female Customers Where Fraud Was Reported/Not Reported:') \n",
    "print('{:<15} {:<10}'.format('Fraud', 'Percent'))\n",
    "print('{:<15} {:.2%}'.format('Reported', female[1])) \n",
    "print('{:<15} {:.2%}'.format('Not Reported', female[0])) \n",
    "\n",
    "# Number of Insured in this group\n",
    "print('\\nNumber of Female Customers:')  \n",
    "print((df.insured_sex == 'FEMALE').sum()) \n",
    "print('-------------------------------------------------------------------------------------')"
   ]
  },
  {
   "cell_type": "markdown",
   "id": "92456980",
   "metadata": {},
   "source": [
    "# Insured Education Level Analysis"
   ]
  },
  {
   "cell_type": "markdown",
   "id": "fed40971",
   "metadata": {},
   "source": [
    "**Segment customers, by education level, to identify possible trends of fraud and visualize data**"
   ]
  },
  {
   "cell_type": "markdown",
   "id": "d7d1020e",
   "metadata": {},
   "source": [
    "**Customer education level, as a percentage, of fraud reported in insurance claims**  \n",
    "* JD = 26.09%    \n",
    "* HS = 22.50%    \n",
    "* ASC = 23.45%    \n",
    "* MD = 26.39%    \n",
    "* MS = 22.38%    \n",
    "* PhD = 26.40%    \n",
    "* BAC = 26.23%    "
   ]
  },
  {
   "cell_type": "code",
   "execution_count": 249,
   "id": "2106937a",
   "metadata": {},
   "outputs": [
    {
     "data": {
      "image/png": "[encoded data removed]",
      "text/plain": [
       "<Figure size 640x480 with 1 Axes>"
      ]
     },
     "metadata": {},
     "output_type": "display_data"
    }
   ],
   "source": [
    "# Create new dataframe for fraud visualization\n",
    "ed_df = pd.DataFrame({\n",
    "    'Education': ['JD', 'HS', 'ASC', 'MD', 'MS', 'PhD', 'BAC'],\n",
    "    'Fraud Reported': [ed_jd[1], ed_hs[1], ed_asc[1], ed_md[1], ed_ms[1], ed_phd[1], ed_bac[1]],\n",
    "    'Not Reported': [ed_jd[0], ed_hs[0], ed_asc[0], ed_md[0], ed_ms[0], ed_phd[0], ed_bac[0]]\n",
    "})\n",
    "\n",
    "# plot the data\n",
    "ed_df.plot(x='Education', y=['Fraud Reported'], kind='bar')\n",
    "plt.show()"
   ]
  },
  {
   "cell_type": "code",
   "execution_count": 227,
   "id": "5e980223",
   "metadata": {},
   "outputs": [
    {
     "name": "stdout",
     "output_type": "stream",
     "text": [
      "Percent of Customers with JD Where Fraud Was Reported/Not Reported:\n",
      "Fraud           Percent   \n",
      "Reported        26.09%\n",
      "Not Reported    73.91%\n",
      "\n",
      "Number of Customers In This Group:\n",
      "161\n",
      "-------------------------------------------------------------------------------------\n"
     ]
    }
   ],
   "source": [
    "\"\"\"In JD education level customers, percentage of insurance claims where fraud was either reported\n",
    "   or not reported as well as total of the group\"\"\"\n",
    "\n",
    "# Create/print variable for percentage of (fraud/no fraud) reported in customer group\n",
    "ed_jd = df[df.insured_education_level == 'JD'].fraud_reported.value_counts(normalize=1)\n",
    "print('Percent of Customers with JD Where Fraud Was Reported/Not Reported:') \n",
    "print('{:<15} {:<10}'.format('Fraud', 'Percent')) \n",
    "print('{:<15} {:.2%}'.format('Reported', ed_jd[1])) \n",
    "print('{:<15} {:.2%}'.format('Not Reported', ed_jd[0])) \n",
    "\n",
    "# Number of Insured in this group\n",
    "print('\\nNumber of Customers In This Group:')  \n",
    "print((df.insured_education_level == 'JD').sum()) \n",
    "print('-------------------------------------------------------------------------------------')"
   ]
  },
  {
   "cell_type": "code",
   "execution_count": 228,
   "id": "39aa482e",
   "metadata": {},
   "outputs": [
    {
     "name": "stdout",
     "output_type": "stream",
     "text": [
      "Percent of Customers with High School Diplomas Where Fraud Was Reported/Not Reported:\n",
      "Fraud           Percent   \n",
      "Reported        22.50%\n",
      "Not Reported    77.50%\n",
      "\n",
      "Number of Customers In This Group:\n",
      "160\n",
      "-------------------------------------------------------------------------------------\n"
     ]
    }
   ],
   "source": [
    "\"\"\"In high school education level customers, percentage of insurance claims where fraud was either\n",
    "reported or not reported as well as total of the group\"\"\"\n",
    "\n",
    "# Create/print variable for percentage of (fraud/no fraud) reported in customer group\n",
    "ed_hs = df[df.insured_education_level == 'High School'].fraud_reported.value_counts(normalize=1)\n",
    "print('Percent of Customers with High School Diplomas Where Fraud Was Reported/Not Reported:') \n",
    "print('{:<15} {:<10}'.format('Fraud', 'Percent')) \n",
    "print('{:<15} {:.2%}'.format('Reported', ed_hs[1])) \n",
    "print('{:<15} {:.2%}'.format('Not Reported', ed_hs[0])) \n",
    "\n",
    "# Number of Insured in this group\n",
    "print('\\nNumber of Customers In This Group:')  \n",
    "print((df.insured_education_level == 'High School').sum()) \n",
    "print('-------------------------------------------------------------------------------------')"
   ]
  },
  {
   "cell_type": "code",
   "execution_count": 229,
   "id": "2d2f69d0",
   "metadata": {},
   "outputs": [
    {
     "name": "stdout",
     "output_type": "stream",
     "text": [
      "Percent of Customers with Associate Degrees Where Fraud Was Reported/Not Reported:\n",
      "Fraud           Percent   \n",
      "Reported        23.45%\n",
      "Not Reported    76.55%\n",
      "\n",
      "Number of Customers In This Group:\n",
      "145\n",
      "-------------------------------------------------------------------------------------\n"
     ]
    }
   ],
   "source": [
    "\"\"\"In associate degree education level customers, percentage of insurance claims where fraud was \n",
    "either reported or not reported as well as total of the group\"\"\"\n",
    "\n",
    "# Create/print variable for percentage of (fraud/no fraud) reported in customer group\n",
    "ed_asc = df[df.insured_education_level == 'Associate'].fraud_reported.value_counts(normalize=1)\n",
    "print('Percent of Customers with Associate Degrees Where Fraud Was Reported/Not Reported:') \n",
    "print('{:<15} {:<10}'.format('Fraud', 'Percent')) \n",
    "print('{:<15} {:.2%}'.format('Reported', ed_asc[1])) \n",
    "print('{:<15} {:.2%}'.format('Not Reported', ed_asc[0])) \n",
    "\n",
    "# Number of Insured in this group\n",
    "print('\\nNumber of Customers In This Group:')  \n",
    "print((df.insured_education_level == 'Associate').sum()) \n",
    "print('-------------------------------------------------------------------------------------')"
   ]
  },
  {
   "cell_type": "code",
   "execution_count": 230,
   "id": "54ce093f",
   "metadata": {},
   "outputs": [
    {
     "name": "stdout",
     "output_type": "stream",
     "text": [
      "Percent of Customers with MD Where Fraud Was Reported/Not Reported:\n",
      "Fraud           Percent   \n",
      "Reported        26.39%\n",
      "Not Reported    73.61%\n",
      "\n",
      "Number of Customers In This Group:\n",
      "144\n",
      "-------------------------------------------------------------------------------------\n"
     ]
    }
   ],
   "source": [
    "\"\"\"In MD education level customers, percentage of insurance claims where fraud was either reported\n",
    "   or not reported as well as total of the group\"\"\"\n",
    "\n",
    "# Create/print variable for percentage of (fraud/no fraud) reported in customer group\n",
    "ed_md = df[df.insured_education_level == 'MD'].fraud_reported.value_counts(normalize=1)\n",
    "print('Percent of Customers with MD Where Fraud Was Reported/Not Reported:') \n",
    "print('{:<15} {:<10}'.format('Fraud', 'Percent')) \n",
    "print('{:<15} {:.2%}'.format('Reported', ed_md[1])) \n",
    "print('{:<15} {:.2%}'.format('Not Reported', ed_md[0])) \n",
    "\n",
    "# Number of Insured in this group\n",
    "print('\\nNumber of Customers In This Group:')  \n",
    "print((df.insured_education_level == 'MD').sum()) \n",
    "print('-------------------------------------------------------------------------------------')"
   ]
  },
  {
   "cell_type": "code",
   "execution_count": 231,
   "id": "2897e3da",
   "metadata": {},
   "outputs": [
    {
     "name": "stdout",
     "output_type": "stream",
     "text": [
      "Percent of Customers with Masters Degrees Where Fraud Was Reported/Not Reported:\n",
      "Fraud           Percent   \n",
      "Reported        22.38%\n",
      "Not Reported    77.62%\n",
      "\n",
      "Number of Customers In This Group:\n",
      "143\n",
      "-------------------------------------------------------------------------------------\n"
     ]
    }
   ],
   "source": [
    "\"\"\"In masters degree education customers, percentage of insurance claims where fraud was either \n",
    "reported or not reported as well as total of the group\"\"\"\n",
    "\n",
    "# Create/print variable for percentage of (fraud/no fraud) reported in customer group\n",
    "ed_ms = df[df.insured_education_level == 'Masters'].fraud_reported.value_counts(normalize=1)\n",
    "print('Percent of Customers with Masters Degrees Where Fraud Was Reported/Not Reported:') \n",
    "print('{:<15} {:<10}'.format('Fraud', 'Percent')) \n",
    "print('{:<15} {:.2%}'.format('Reported', ed_ms[1])) \n",
    "print('{:<15} {:.2%}'.format('Not Reported', ed_ms[0])) \n",
    "\n",
    "# Number of Insured in this group\n",
    "print('\\nNumber of Customers In This Group:')  \n",
    "print((df.insured_education_level == 'Masters').sum()) \n",
    "print('-------------------------------------------------------------------------------------')"
   ]
  },
  {
   "cell_type": "code",
   "execution_count": 232,
   "id": "3b78f3ba",
   "metadata": {},
   "outputs": [
    {
     "name": "stdout",
     "output_type": "stream",
     "text": [
      "Percent of Customers with PhD Where Fraud Was Reported/Not Reported:\n",
      "Fraud           Percent   \n",
      "Reported        26.40%\n",
      "Not Reported    73.60%\n",
      "\n",
      "Number of Customers In This Group:\n",
      "125\n",
      "-------------------------------------------------------------------------------------\n"
     ]
    }
   ],
   "source": [
    "\"\"\"In PhD education level customers, percentage of insurance claims where fraud was either \n",
    "reported or not reported as well as total of the group\"\"\"\n",
    "\n",
    "# Create/print variable for percentage of (fraud/no fraud) reported in customer group\n",
    "ed_phd = df[df.insured_education_level == 'PhD'].fraud_reported.value_counts(normalize=1)\n",
    "print('Percent of Customers with PhD Where Fraud Was Reported/Not Reported:') \n",
    "print('{:<15} {:<10}'.format('Fraud', 'Percent')) \n",
    "print('{:<15} {:.2%}'.format('Reported', ed_phd[1])) \n",
    "print('{:<15} {:.2%}'.format('Not Reported', ed_phd[0])) \n",
    "\n",
    "# Number of Insured in this group\n",
    "print('\\nNumber of Customers In This Group:')  \n",
    "print((df.insured_education_level == 'PhD').sum()) \n",
    "print('-------------------------------------------------------------------------------------')"
   ]
  },
  {
   "cell_type": "code",
   "execution_count": 233,
   "id": "772f5c56",
   "metadata": {},
   "outputs": [
    {
     "name": "stdout",
     "output_type": "stream",
     "text": [
      "Percent of Customers with Bachelor Degrees Where Fraud Was Reported/Not Reported:\n",
      "Fraud           Percent   \n",
      "Reported        26.23%\n",
      "Not Reported    73.77%\n",
      "\n",
      "Number of Customers In This Group:\n",
      "122\n",
      "-------------------------------------------------------------------------------------\n"
     ]
    }
   ],
   "source": [
    "\"\"\"In bachelors degree education level customers, percentage of insurance claims where fraud was \n",
    "either reported or not reported as well as total of the group\"\"\"\n",
    "\n",
    "# Create/print variable for percentage of (fraud/no fraud) reported in customer group\n",
    "ed_bac = df[df.insured_education_level == 'College'].fraud_reported.value_counts(normalize=1)\n",
    "print('Percent of Customers with Bachelor Degrees Where Fraud Was Reported/Not Reported:') \n",
    "print('{:<15} {:<10}'.format('Fraud', 'Percent')) \n",
    "print('{:<15} {:.2%}'.format('Reported', ed_bac[1])) \n",
    "print('{:<15} {:.2%}'.format('Not Reported', ed_bac[0])) \n",
    "\n",
    "# Number of Insured in this group\n",
    "print('\\nNumber of Customers In This Group:')  \n",
    "print((df.insured_education_level == 'College').sum()) \n",
    "print('-------------------------------------------------------------------------------------')"
   ]
  },
  {
   "cell_type": "markdown",
   "id": "2aff1cf4",
   "metadata": {},
   "source": [
    "# Incident Date Analysis"
   ]
  },
  {
   "cell_type": "markdown",
   "id": "2c79d32b",
   "metadata": {},
   "source": [
    "**Day of week, as a percentage, of fraud reported in insurance claims**  \n",
    "* Monday = 29.41%      \n",
    "* Tuesday = 19.26%      \n",
    "* Wednesday = 22.07%    \n",
    "* Thursday = 24.31%    \n",
    "* Friday = 23.94%   \n",
    "* Saturday = 28.31%    \n",
    "* Sunday = 25.00%  "
   ]
  },
  {
   "cell_type": "markdown",
   "id": "833a1b64",
   "metadata": {},
   "source": [
    "**Claims per day as a number and percentage**\n",
    "* Monday = 136 / 13.6%  \n",
    "* Tuesday = 135 / 13.5%  \n",
    "* Wednesday = 145 / 14.5%  \n",
    "* Thursday = 144 / 14.4%  \n",
    "* Friday = 142 / 14.2%  \n",
    "* Saturday = 166 / 16.6%  \n",
    "* Sunday = 132 / 13.2%  "
   ]
  },
  {
   "cell_type": "code",
   "execution_count": 277,
   "id": "596bb328",
   "metadata": {},
   "outputs": [
    {
     "data": {
      "image/png": "[encoded data removed]",
      "text/plain": [
       "<Figure size 640x480 with 1 Axes>"
      ]
     },
     "metadata": {},
     "output_type": "display_data"
    }
   ],
   "source": [
    "# Create new dataframe for fraud visualization\n",
    "day = pd.DataFrame({\n",
    "    'Day': ['Monday', 'Tuesday', 'Wednesday', 'Thursday', 'Friday', 'Saturday', 'Sunday'],\n",
    "    'Fraud Reported': [monday[1], tuesday[1], wednesday[1], thursday[1], friday[1], saturday[1], sunday[1]],\n",
    "    'Not Reported': [monday[0], tuesday[0], wednesday[0], thursday[0], friday[0], saturday[0], sunday[0]]\n",
    "})\n",
    "\n",
    "# plot the data\n",
    "day.plot(x='Day', y=['Fraud Reported'], kind='bar')\n",
    "plt.show()"
   ]
  },
  {
   "cell_type": "code",
   "execution_count": 258,
   "id": "eb2dca87",
   "metadata": {},
   "outputs": [],
   "source": [
    "# Convert incident date from object to datetime64\n",
    "df['incident_date'] = pd.to_datetime(df['incident_date'])  \n",
    "# Convert incident date to a day of week variable\n",
    "df['day_of_week'] = df['incident_date'].dt.dayofweek"
   ]
  },
  {
   "cell_type": "code",
   "execution_count": 269,
   "id": "a8b85878",
   "metadata": {},
   "outputs": [
    {
     "name": "stdout",
     "output_type": "stream",
     "text": [
      "Percent of Claims on Monday Where Fraud Was Reported/Not Reported:\n",
      "Fraud           Percent   \n",
      "Reported        29.41%\n",
      "Not Reported    70.59%\n",
      "\n",
      "Number of Claims on Monday:\n",
      "136\n",
      "-------------------------------------------------------------------------------------\n"
     ]
    }
   ],
   "source": [
    "\"\"\"On Monday, percentage of insurance claims where fraud was \n",
    "either reported or not reported as well as total of the day\"\"\"\n",
    "\n",
    "# Create/print variable for percentage of (fraud/no fraud) reported in claim group\n",
    "monday = df[df.day_of_week == 0].fraud_reported.value_counts(normalize=1)\n",
    "print('Percent of Claims on Monday Where Fraud Was Reported/Not Reported:') \n",
    "print('{:<15} {:<10}'.format('Fraud', 'Percent')) \n",
    "print('{:<15} {:.2%}'.format('Reported', monday[1])) \n",
    "print('{:<15} {:.2%}'.format('Not Reported', monday[0])) \n",
    "\n",
    "# Number of Claims in this group\n",
    "print('\\nNumber of Claims on Monday:')  \n",
    "print((df.day_of_week == 0).sum()) \n",
    "print('-------------------------------------------------------------------------------------')\n"
   ]
  },
  {
   "cell_type": "code",
   "execution_count": 270,
   "id": "d71ed070",
   "metadata": {},
   "outputs": [
    {
     "name": "stdout",
     "output_type": "stream",
     "text": [
      "Percent of Claims on Tuesday Where Fraud Was Reported/Not Reported:\n",
      "Fraud           Percent   \n",
      "Reported        19.26%\n",
      "Not Reported    80.74%\n",
      "\n",
      "Number of Claims on Tuesday:\n",
      "135\n",
      "-------------------------------------------------------------------------------------\n"
     ]
    }
   ],
   "source": [
    "\"\"\"On Tuesday, percentage of insurance claims where fraud was \n",
    "either reported or not reported as well as total of the day\"\"\"\n",
    "\n",
    "# Create/print variable for percentage of (fraud/no fraud) reported in claim group\n",
    "tuesday = df[df.day_of_week == 1].fraud_reported.value_counts(normalize=1)\n",
    "print('Percent of Claims on Tuesday Where Fraud Was Reported/Not Reported:') \n",
    "print('{:<15} {:<10}'.format('Fraud', 'Percent')) \n",
    "print('{:<15} {:.2%}'.format('Reported', tuesday[1])) \n",
    "print('{:<15} {:.2%}'.format('Not Reported', tuesday[0])) \n",
    "\n",
    "# Number of Insured in this group\n",
    "print('\\nNumber of Claims on Tuesday:')  \n",
    "print((df.day_of_week == 1).sum()) \n",
    "print('-------------------------------------------------------------------------------------')"
   ]
  },
  {
   "cell_type": "code",
   "execution_count": 271,
   "id": "801b9099",
   "metadata": {},
   "outputs": [
    {
     "name": "stdout",
     "output_type": "stream",
     "text": [
      "Percent of Claims on Wednesday Where Fraud Was Reported/Not Reported:\n",
      "Fraud           Percent   \n",
      "Reported        22.07%\n",
      "Not Reported    77.93%\n",
      "\n",
      "Number of Claims on Wednesday:\n",
      "145\n",
      "-------------------------------------------------------------------------------------\n"
     ]
    }
   ],
   "source": [
    "\"\"\"On Wednesday, percentage of insurance claims where fraud was \n",
    "either reported or not reported as well as total of the day\"\"\"\n",
    "\n",
    "# Create/print variable for percentage of (fraud/no fraud) reported in claim group\n",
    "wednesday = df[df.day_of_week == 2].fraud_reported.value_counts(normalize=1)\n",
    "print('Percent of Claims on Wednesday Where Fraud Was Reported/Not Reported:') \n",
    "print('{:<15} {:<10}'.format('Fraud', 'Percent')) \n",
    "print('{:<15} {:.2%}'.format('Reported', wednesday[1])) \n",
    "print('{:<15} {:.2%}'.format('Not Reported', wednesday[0])) \n",
    "\n",
    "# Number of Insured in this group\n",
    "print('\\nNumber of Claims on Wednesday:')  \n",
    "print((df.day_of_week == 2).sum()) \n",
    "print('-------------------------------------------------------------------------------------')"
   ]
  },
  {
   "cell_type": "code",
   "execution_count": 272,
   "id": "c7460a49",
   "metadata": {},
   "outputs": [
    {
     "name": "stdout",
     "output_type": "stream",
     "text": [
      "Percent of Claims on Thursday Where Fraud Was Reported/Not Reported:\n",
      "Fraud           Percent   \n",
      "Reported        24.31%\n",
      "Not Reported    75.69%\n",
      "\n",
      "Number of Claims on Thursday:\n",
      "144\n",
      "-------------------------------------------------------------------------------------\n"
     ]
    }
   ],
   "source": [
    "\"\"\"On Thursday, percentage of insurance claims where fraud was \n",
    "either reported or not reported as well as total of the day\"\"\"\n",
    "\n",
    "# Create/print variable for percentage of (fraud/no fraud) reported in claim group\n",
    "thursday = df[df.day_of_week == 3].fraud_reported.value_counts(normalize=1)\n",
    "print('Percent of Claims on Thursday Where Fraud Was Reported/Not Reported:') \n",
    "print('{:<15} {:<10}'.format('Fraud', 'Percent')) \n",
    "print('{:<15} {:.2%}'.format('Reported', thursday[1])) \n",
    "print('{:<15} {:.2%}'.format('Not Reported', thursday[0])) \n",
    "\n",
    "# Number of Insured in this group\n",
    "print('\\nNumber of Claims on Thursday:')  \n",
    "print((df.day_of_week == 3).sum()) \n",
    "print('-------------------------------------------------------------------------------------')"
   ]
  },
  {
   "cell_type": "code",
   "execution_count": 273,
   "id": "0f652515",
   "metadata": {},
   "outputs": [
    {
     "name": "stdout",
     "output_type": "stream",
     "text": [
      "Percent of Claims on Friday Where Fraud Was Reported/Not Reported:\n",
      "Fraud           Percent   \n",
      "Reported        23.94%\n",
      "Not Reported    76.06%\n",
      "\n",
      "Number of Claims on Friday:\n",
      "142\n",
      "-------------------------------------------------------------------------------------\n"
     ]
    }
   ],
   "source": [
    "\"\"\"On Friday, percentage of insurance claims where fraud was \n",
    "either reported or not reported as well as total of the day\"\"\"\n",
    "\n",
    "# Create/print variable for percentage of (fraud/no fraud) reported in claim group\n",
    "friday = df[df.day_of_week == 4].fraud_reported.value_counts(normalize=1)\n",
    "print('Percent of Claims on Friday Where Fraud Was Reported/Not Reported:') \n",
    "print('{:<15} {:<10}'.format('Fraud', 'Percent')) \n",
    "print('{:<15} {:.2%}'.format('Reported', friday[1])) \n",
    "print('{:<15} {:.2%}'.format('Not Reported', friday[0])) \n",
    "\n",
    "# Number of Insured in this group\n",
    "print('\\nNumber of Claims on Friday:')  \n",
    "print((df.day_of_week == 4).sum()) \n",
    "print('-------------------------------------------------------------------------------------')"
   ]
  },
  {
   "cell_type": "code",
   "execution_count": 274,
   "id": "69781ef8",
   "metadata": {},
   "outputs": [
    {
     "name": "stdout",
     "output_type": "stream",
     "text": [
      "Percent of Claims on Saturday Where Fraud Was Reported/Not Reported:\n",
      "Fraud           Percent   \n",
      "Reported        28.31%\n",
      "Not Reported    71.69%\n",
      "\n",
      "Number of Claims on Saturday:\n",
      "166\n",
      "-------------------------------------------------------------------------------------\n"
     ]
    }
   ],
   "source": [
    "\"\"\"On Saturday, percentage of insurance claims where fraud was \n",
    "either reported or not reported as well as total of the day\"\"\"\n",
    "\n",
    "# Create/print variable for percentage of (fraud/no fraud) reported in claim group\n",
    "saturday = df[df.day_of_week == 5].fraud_reported.value_counts(normalize=1)\n",
    "print('Percent of Claims on Saturday Where Fraud Was Reported/Not Reported:') \n",
    "print('{:<15} {:<10}'.format('Fraud', 'Percent')) \n",
    "print('{:<15} {:.2%}'.format('Reported', saturday[1])) \n",
    "print('{:<15} {:.2%}'.format('Not Reported', saturday[0])) \n",
    "\n",
    "# Number of Insured in this group\n",
    "print('\\nNumber of Claims on Saturday:')  \n",
    "print((df.day_of_week == 5).sum()) \n",
    "print('-------------------------------------------------------------------------------------')"
   ]
  },
  {
   "cell_type": "code",
   "execution_count": 275,
   "id": "beb7abbb",
   "metadata": {},
   "outputs": [
    {
     "name": "stdout",
     "output_type": "stream",
     "text": [
      "Percent of Claims on Sunday Where Fraud Was Reported/Not Reported:\n",
      "Fraud           Percent   \n",
      "Reported        25.00%\n",
      "Not Reported    75.00%\n",
      "\n",
      "Number of Claims on Sunday:\n",
      "132\n",
      "-------------------------------------------------------------------------------------\n"
     ]
    }
   ],
   "source": [
    "\"\"\"On Sunday, percentage of insurance claims where fraud was \n",
    "either reported or not reported as well as total of the day\"\"\"\n",
    "\n",
    "# Create/print variable for percentage of (fraud/no fraud) reported in claim group\n",
    "sunday = df[df.day_of_week == 6].fraud_reported.value_counts(normalize=1)\n",
    "print('Percent of Claims on Sunday Where Fraud Was Reported/Not Reported:') \n",
    "print('{:<15} {:<10}'.format('Fraud', 'Percent')) \n",
    "print('{:<15} {:.2%}'.format('Reported', sunday[1])) \n",
    "print('{:<15} {:.2%}'.format('Not Reported', sunday[0])) \n",
    "\n",
    "# Number of Insured in this group\n",
    "print('\\nNumber of Claims on Sunday:')  \n",
    "print((df.day_of_week == 6).sum()) \n",
    "print('-------------------------------------------------------------------------------------')"
   ]
  },
  {
   "cell_type": "markdown",
   "id": "59bf1efe",
   "metadata": {},
   "source": [
    "# Incident Type Analysis"
   ]
  },
  {
   "cell_type": "markdown",
   "id": "8cd85dc2",
   "metadata": {},
   "source": [
    "**Segment claims by incident type to identify possible trends of fraud and visualize data**  \n",
    "\n",
    "**Claims per incident type as a number and percentage**  \n",
    "* Multi Vehicle =  419 / 41.9%  \n",
    "* Single Vehicle = 403 / 40.3%  \n",
    "* Vehicle Theft = 94 / 9.4%  \n",
    "* Parked Vehicle = 84 / 8.4%  "
   ]
  },
  {
   "cell_type": "markdown",
   "id": "149f4f6d",
   "metadata": {},
   "source": [
    "**Incident Type, as a percentage, of fraud reported in insurance claims**    \n",
    "* Multi Vehicle  = 27.21%\n",
    "* Single Vehicle = 29.03%\n",
    "* Vehicle Theft = 8.51% \n",
    "* Parked Vehicle = 9.52%\n"
   ]
  },
  {
   "cell_type": "code",
   "execution_count": 307,
   "id": "23943f3d",
   "metadata": {},
   "outputs": [
    {
     "data": {
      "image/png": "[encoded data removed]",
      "text/plain": [
       "<Figure size 640x480 with 1 Axes>"
      ]
     },
     "metadata": {},
     "output_type": "display_data"
    }
   ],
   "source": [
    "# Create new dataframe for fraud visualization\n",
    "incident = pd.DataFrame({\n",
    "    'Incident Type': ['Multi Vehicle', 'Single Vehicle', 'Vehicle Theft', 'Parked Vehicle'],\n",
    "    'Fraud Reported': [multi[1], single[1], theft[1], parked[1]],\n",
    "    'Not Reported': [multi[0], single[0], theft[0], parked[0]]\n",
    "})\n",
    "\n",
    "# plot the data\n",
    "incident.plot(x='Incident Type', y=['Fraud Reported'], kind='bar')\n",
    "plt.show()"
   ]
  },
  {
   "cell_type": "code",
   "execution_count": 303,
   "id": "11d6555b",
   "metadata": {},
   "outputs": [
    {
     "name": "stdout",
     "output_type": "stream",
     "text": [
      "Percent of Multi Vehicle Collision Claims Where Fraud Was Reported/Not Reported:\n",
      "Fraud           Percent   \n",
      "Reported        27.21%\n",
      "Not Reported    72.79%\n",
      "\n",
      "Number of Multi Vehicle Claims:\n",
      "419\n",
      "-------------------------------------------------------------------------------------\n"
     ]
    }
   ],
   "source": [
    "\"\"\"Per incident type, percentage of insurance claims where fraud was \n",
    "either reported or not reported as well as total of incident type\"\"\"\n",
    "\n",
    "# Create/print variable for percentage of (fraud/no fraud) reported in claim group\n",
    "multi = df[df.incident_type == 'Multi-vehicle Collision'].fraud_reported.value_counts(normalize=1)\n",
    "print('Percent of Multi Vehicle Collision Claims Where Fraud Was Reported/Not Reported:') \n",
    "print('{:<15} {:<10}'.format('Fraud', 'Percent')) \n",
    "print('{:<15} {:.2%}'.format('Reported', multi[1])) \n",
    "print('{:<15} {:.2%}'.format('Not Reported', multi[0])) \n",
    "\n",
    "# Number of Incidents in this group\n",
    "print('\\nNumber of Multi Vehicle Claims:')  \n",
    "print((df.incident_type == 'Multi-vehicle Collision').sum()) \n",
    "print('-------------------------------------------------------------------------------------')"
   ]
  },
  {
   "cell_type": "code",
   "execution_count": 304,
   "id": "01415a54",
   "metadata": {},
   "outputs": [
    {
     "name": "stdout",
     "output_type": "stream",
     "text": [
      "Percent of Single Vehicle Collision Claims Where Fraud Was Reported/Not Reported:\n",
      "Fraud           Percent   \n",
      "Reported        29.03%\n",
      "Not Reported    70.97%\n",
      "\n",
      "Number of Single Vehicle Claims:\n",
      "403\n",
      "-------------------------------------------------------------------------------------\n"
     ]
    }
   ],
   "source": [
    "\"\"\"Per incident type, percentage of insurance claims where fraud was \n",
    "either reported or not reported as well as total of incident type\"\"\"\n",
    "\n",
    "# Create/print variable for percentage of (fraud/no fraud) reported in claim group\n",
    "single = df[df.incident_type == 'Single Vehicle Collision'].fraud_reported.value_counts(normalize=1)\n",
    "print('Percent of Single Vehicle Collision Claims Where Fraud Was Reported/Not Reported:') \n",
    "print('{:<15} {:<10}'.format('Fraud', 'Percent')) \n",
    "print('{:<15} {:.2%}'.format('Reported', single[1])) \n",
    "print('{:<15} {:.2%}'.format('Not Reported', single[0])) \n",
    "\n",
    "# Number of Incidents in this group\n",
    "print('\\nNumber of Single Vehicle Claims:')  \n",
    "print((df.incident_type == 'Single Vehicle Collision').sum()) \n",
    "print('-------------------------------------------------------------------------------------')"
   ]
  },
  {
   "cell_type": "code",
   "execution_count": 305,
   "id": "7ebb37b1",
   "metadata": {},
   "outputs": [
    {
     "name": "stdout",
     "output_type": "stream",
     "text": [
      "Percent of Vehicle Theft Claims Where Fraud Was Reported/Not Reported:\n",
      "Fraud           Percent   \n",
      "Reported        8.51%\n",
      "Not Reported    91.49%\n",
      "\n",
      "Number of Vehicle Theft Claims:\n",
      "94\n",
      "-------------------------------------------------------------------------------------\n"
     ]
    }
   ],
   "source": [
    "\"\"\"Per incident type, percentage of insurance claims where fraud was \n",
    "either reported or not reported as well as total of incident type\"\"\"\n",
    "\n",
    "# Create/print variable for percentage of (fraud/no fraud) reported in claim group\n",
    "theft = df[df.incident_type == 'Vehicle Theft'].fraud_reported.value_counts(normalize=1)\n",
    "print('Percent of Vehicle Theft Claims Where Fraud Was Reported/Not Reported:') \n",
    "print('{:<15} {:<10}'.format('Fraud', 'Percent')) \n",
    "print('{:<15} {:.2%}'.format('Reported', theft[1])) \n",
    "print('{:<15} {:.2%}'.format('Not Reported', theft[0])) \n",
    "\n",
    "# Number of Incidents in this group\n",
    "print('\\nNumber of Vehicle Theft Claims:')  \n",
    "print((df.incident_type == 'Vehicle Theft').sum()) \n",
    "print('-------------------------------------------------------------------------------------')"
   ]
  },
  {
   "cell_type": "code",
   "execution_count": 306,
   "id": "b67b4b5c",
   "metadata": {},
   "outputs": [
    {
     "name": "stdout",
     "output_type": "stream",
     "text": [
      "Percent of Parked Car Claims Where Fraud Was Reported/Not Reported:\n",
      "Fraud           Percent   \n",
      "Reported        9.52%\n",
      "Not Reported    90.48%\n",
      "\n",
      "Number of Parked Car Claims:\n",
      "84\n",
      "-------------------------------------------------------------------------------------\n"
     ]
    }
   ],
   "source": [
    "\"\"\"Per incident type, percentage of insurance claims where fraud was \n",
    "either reported or not reported as well as total of incident type\"\"\"\n",
    "\n",
    "# Create/print variable for percentage of (fraud/no fraud) reported in claim group\n",
    "parked = df[df.incident_type == 'Parked Car'].fraud_reported.value_counts(normalize=1)\n",
    "print('Percent of Parked Car Claims Where Fraud Was Reported/Not Reported:') \n",
    "print('{:<15} {:<10}'.format('Fraud', 'Percent')) \n",
    "print('{:<15} {:.2%}'.format('Reported', parked[1])) \n",
    "print('{:<15} {:.2%}'.format('Not Reported', parked[0])) \n",
    "\n",
    "# Number of Incidents in this group\n",
    "print('\\nNumber of Parked Car Claims:')  \n",
    "print((df.incident_type == 'Parked Car').sum()) \n",
    "print('-------------------------------------------------------------------------------------')"
   ]
  },
  {
   "cell_type": "markdown",
   "id": "2370f1b6",
   "metadata": {},
   "source": [
    "# State Incident Occurred In Analysis\n",
    " "
   ]
  },
  {
   "cell_type": "markdown",
   "id": "7a9ae99c",
   "metadata": {},
   "source": [
    "**Claims per state incident occurred in as a number and percentage**  \n",
    "* NY = 262 / 26.2%\n",
    "* SC = 248 / 24.8%   \n",
    "* WV = 217 / 21.7%  \n",
    "* VA = 110 / 11%  \n",
    "* NC = 110 / 11% \n",
    "* PA = 30 / 3%\n",
    "* OH = 23 / 2.3%"
   ]
  },
  {
   "cell_type": "markdown",
   "id": "afa0dee9",
   "metadata": {},
   "source": [
    "**State incident occurred, as a percentage, of fraud reported in insurance claims**  \n",
    "* NY =  22.14%  \n",
    "* SC =  29.44%  \n",
    "* WV =  17.97%  \n",
    "* VA =  22.73%  \n",
    "* NC =  30.91%   \n",
    "* PA =  26.67%  \n",
    "* OH =  43.48%\n"
   ]
  },
  {
   "cell_type": "code",
   "execution_count": 324,
   "id": "76b2b914",
   "metadata": {},
   "outputs": [
    {
     "data": {
      "image/png": "[encoded data removed]",
      "text/plain": [
       "<Figure size 640x480 with 1 Axes>"
      ]
     },
     "metadata": {},
     "output_type": "display_data"
    }
   ],
   "source": [
    "# Create new dataframe for fraud visualization\n",
    "inc_state = pd.DataFrame({\n",
    "    'State': ['NY', 'SC', 'WV', 'VA', 'NC', 'PA', 'OH'],\n",
    "    'Fraud Reported': [ny[1], sc[1], wv[1], va[1], nc[1], pa[1], oh[1]],\n",
    "    'Not Reported': [ny[0], sc[0], wv[0], va[0], nc[0], pa[0], oh[0]]\n",
    "})\n",
    "\n",
    "# plot the data\n",
    "inc_state.plot(x='State', y=['Fraud Reported'], kind='bar')\n",
    "plt.show()"
   ]
  },
  {
   "cell_type": "code",
   "execution_count": 315,
   "id": "255d2664",
   "metadata": {},
   "outputs": [
    {
     "name": "stdout",
     "output_type": "stream",
     "text": [
      "Percent of Claims in NY Where Fraud Was Reported/Not Reported:\n",
      "Fraud           Percent   \n",
      "Reported        22.14%\n",
      "Not Reported    77.86%\n",
      "\n",
      "Number of Claims in NY:\n",
      "262\n",
      "-------------------------------------------------------------------------------------\n"
     ]
    }
   ],
   "source": [
    "\"\"\"Per incident state, percentage of insurance claims where fraud was \n",
    "either reported or not reported as well as total of incident type\"\"\"\n",
    "\n",
    "# Create/print variable for percentage of (fraud/no fraud) reported in claim group\n",
    "ny = df[df.incident_state == 'NY'].fraud_reported.value_counts(normalize=1)\n",
    "print('Percent of Claims in NY Where Fraud Was Reported/Not Reported:') \n",
    "print('{:<15} {:<10}'.format('Fraud', 'Percent')) \n",
    "print('{:<15} {:.2%}'.format('Reported', ny[1])) \n",
    "print('{:<15} {:.2%}'.format('Not Reported', ny[0])) \n",
    "\n",
    "# Number of Incidents in this group\n",
    "print('\\nNumber of Claims in NY:')  \n",
    "print((df.incident_state == 'NY').sum()) \n",
    "print('-------------------------------------------------------------------------------------')"
   ]
  },
  {
   "cell_type": "code",
   "execution_count": 316,
   "id": "93b8c027",
   "metadata": {},
   "outputs": [
    {
     "name": "stdout",
     "output_type": "stream",
     "text": [
      "Percent of Claims in SC Where Fraud Was Reported/Not Reported:\n",
      "Fraud           Percent   \n",
      "Reported        29.44%\n",
      "Not Reported    70.56%\n",
      "\n",
      "Number of Claims in SC:\n",
      "248\n",
      "-------------------------------------------------------------------------------------\n"
     ]
    }
   ],
   "source": [
    "\"\"\"Per incident state, percentage of insurance claims where fraud was \n",
    "either reported or not reported as well as total of incident type\"\"\"\n",
    "\n",
    "# Create/print variable for percentage of (fraud/no fraud) reported in claim group\n",
    "sc = df[df.incident_state == 'SC'].fraud_reported.value_counts(normalize=1)\n",
    "print('Percent of Claims in SC Where Fraud Was Reported/Not Reported:') \n",
    "print('{:<15} {:<10}'.format('Fraud', 'Percent')) \n",
    "print('{:<15} {:.2%}'.format('Reported', sc[1])) \n",
    "print('{:<15} {:.2%}'.format('Not Reported', sc[0])) \n",
    "\n",
    "# Number of Incidents in this group\n",
    "print('\\nNumber of Claims in SC:')  \n",
    "print((df.incident_state == 'SC').sum()) \n",
    "print('-------------------------------------------------------------------------------------')"
   ]
  },
  {
   "cell_type": "code",
   "execution_count": 317,
   "id": "c723560a",
   "metadata": {},
   "outputs": [
    {
     "name": "stdout",
     "output_type": "stream",
     "text": [
      "Percent of Claims in WV Where Fraud Was Reported/Not Reported:\n",
      "Fraud           Percent   \n",
      "Reported        17.97%\n",
      "Not Reported    82.03%\n",
      "\n",
      "Number of Claims in WV:\n",
      "217\n",
      "-------------------------------------------------------------------------------------\n"
     ]
    }
   ],
   "source": [
    "\"\"\"Per incident state, percentage of insurance claims where fraud was \n",
    "either reported or not reported as well as total of incident type\"\"\"\n",
    "\n",
    "# Create/print variable for percentage of (fraud/no fraud) reported in claim group\n",
    "wv = df[df.incident_state == 'WV'].fraud_reported.value_counts(normalize=1)\n",
    "print('Percent of Claims in WV Where Fraud Was Reported/Not Reported:') \n",
    "print('{:<15} {:<10}'.format('Fraud', 'Percent')) \n",
    "print('{:<15} {:.2%}'.format('Reported', wv[1])) \n",
    "print('{:<15} {:.2%}'.format('Not Reported', wv[0])) \n",
    "\n",
    "# Number of Incidents in this group\n",
    "print('\\nNumber of Claims in WV:')  \n",
    "print((df.incident_state == 'WV').sum()) \n",
    "print('-------------------------------------------------------------------------------------')"
   ]
  },
  {
   "cell_type": "code",
   "execution_count": 318,
   "id": "884039da",
   "metadata": {},
   "outputs": [
    {
     "name": "stdout",
     "output_type": "stream",
     "text": [
      "Percent of Claims in VA Where Fraud Was Reported/Not Reported:\n",
      "Fraud           Percent   \n",
      "Reported        22.73%\n",
      "Not Reported    77.27%\n",
      "\n",
      "Number of Claims in VA:\n",
      "110\n",
      "-------------------------------------------------------------------------------------\n"
     ]
    }
   ],
   "source": [
    "\"\"\"Per incident state, percentage of insurance claims where fraud was \n",
    "either reported or not reported as well as total of incident type\"\"\"\n",
    "\n",
    "# Create/print variable for percentage of (fraud/no fraud) reported in claim group\n",
    "va = df[df.incident_state == 'VA'].fraud_reported.value_counts(normalize=1)\n",
    "print('Percent of Claims in VA Where Fraud Was Reported/Not Reported:') \n",
    "print('{:<15} {:<10}'.format('Fraud', 'Percent')) \n",
    "print('{:<15} {:.2%}'.format('Reported', va[1])) \n",
    "print('{:<15} {:.2%}'.format('Not Reported', va[0])) \n",
    "\n",
    "# Number of Incidents in this group\n",
    "print('\\nNumber of Claims in VA:')  \n",
    "print((df.incident_state == 'VA').sum()) \n",
    "print('-------------------------------------------------------------------------------------')"
   ]
  },
  {
   "cell_type": "code",
   "execution_count": 319,
   "id": "7cf4940a",
   "metadata": {},
   "outputs": [
    {
     "name": "stdout",
     "output_type": "stream",
     "text": [
      "Percent of Claims in NC Where Fraud Was Reported/Not Reported:\n",
      "Fraud           Percent   \n",
      "Reported        30.91%\n",
      "Not Reported    69.09%\n",
      "\n",
      "Number of Claims in NC:\n",
      "110\n",
      "-------------------------------------------------------------------------------------\n"
     ]
    }
   ],
   "source": [
    "\"\"\"Per incident state, percentage of insurance claims where fraud was \n",
    "either reported or not reported as well as total of incident type\"\"\"\n",
    "\n",
    "# Create/print variable for percentage of (fraud/no fraud) reported in claim group\n",
    "nc = df[df.incident_state == 'NC'].fraud_reported.value_counts(normalize=1)\n",
    "print('Percent of Claims in NC Where Fraud Was Reported/Not Reported:') \n",
    "print('{:<15} {:<10}'.format('Fraud', 'Percent')) \n",
    "print('{:<15} {:.2%}'.format('Reported', nc[1])) \n",
    "print('{:<15} {:.2%}'.format('Not Reported', nc[0])) \n",
    "\n",
    "# Number of Incidents in this group\n",
    "print('\\nNumber of Claims in NC:')  \n",
    "print((df.incident_state == 'NC').sum()) \n",
    "print('-------------------------------------------------------------------------------------')"
   ]
  },
  {
   "cell_type": "code",
   "execution_count": 322,
   "id": "4eb4b71e",
   "metadata": {},
   "outputs": [
    {
     "name": "stdout",
     "output_type": "stream",
     "text": [
      "Percent of Claims in PA Where Fraud Was Reported/Not Reported:\n",
      "Fraud           Percent   \n",
      "Reported        26.67%\n",
      "Not Reported    73.33%\n",
      "\n",
      "Number of Claims in PA:\n",
      "30\n",
      "-------------------------------------------------------------------------------------\n"
     ]
    }
   ],
   "source": [
    "\"\"\"Per incident state, percentage of insurance claims where fraud was \n",
    "either reported or not reported as well as total of incident type\"\"\"\n",
    "\n",
    "# Create/print variable for percentage of (fraud/no fraud) reported in claim group\n",
    "pa = df[df.incident_state == 'PA'].fraud_reported.value_counts(normalize=1)\n",
    "print('Percent of Claims in PA Where Fraud Was Reported/Not Reported:') \n",
    "print('{:<15} {:<10}'.format('Fraud', 'Percent')) \n",
    "print('{:<15} {:.2%}'.format('Reported', pa[1])) \n",
    "print('{:<15} {:.2%}'.format('Not Reported', pa[0])) \n",
    "\n",
    "# Number of Incidents in this group\n",
    "print('\\nNumber of Claims in PA:')  \n",
    "print((df.incident_state == 'PA').sum()) \n",
    "print('-------------------------------------------------------------------------------------')"
   ]
  },
  {
   "cell_type": "code",
   "execution_count": 320,
   "id": "7c42d6ec",
   "metadata": {},
   "outputs": [
    {
     "name": "stdout",
     "output_type": "stream",
     "text": [
      "Percent of Claims in OH Where Fraud Was Reported/Not Reported:\n",
      "Fraud           Percent   \n",
      "Reported        43.48%\n",
      "Not Reported    56.52%\n",
      "\n",
      "Number of Claims in OH:\n",
      "23\n",
      "-------------------------------------------------------------------------------------\n"
     ]
    }
   ],
   "source": [
    "\"\"\"Per incident state, percentage of insurance claims where fraud was \n",
    "either reported or not reported as well as total of incident type\"\"\"\n",
    "\n",
    "# Create/print variable for percentage of (fraud/no fraud) reported in claim group\n",
    "oh = df[df.incident_state == 'OH'].fraud_reported.value_counts(normalize=1)\n",
    "print('Percent of Claims in OH Where Fraud Was Reported/Not Reported:') \n",
    "print('{:<15} {:<10}'.format('Fraud', 'Percent')) \n",
    "print('{:<15} {:.2%}'.format('Reported', oh[1])) \n",
    "print('{:<15} {:.2%}'.format('Not Reported', oh[0])) \n",
    "\n",
    "# Number of Incidents in this group\n",
    "print('\\nNumber of Claims in OH:')  \n",
    "print((df.incident_state == 'OH').sum()) \n",
    "print('-------------------------------------------------------------------------------------')"
   ]
  },
  {
   "cell_type": "markdown",
   "id": "6dc6efbf",
   "metadata": {},
   "source": [
    "# Number of Witnesses per Claim Analysis"
   ]
  },
  {
   "cell_type": "markdown",
   "id": "a527373a",
   "metadata": {},
   "source": [
    "**Segment number of witnesses to identify possible trends of fraud and visualize data**"
   ]
  },
  {
   "cell_type": "markdown",
   "id": "63a18ef8",
   "metadata": {},
   "source": [
    "**Claims per witnesses as a number and percentage**  \n",
    "* 0 = 258 / 25.8%  \n",
    "* 1 = 250 / 25%  \n",
    "* 2 = 249 / 24.9%  \n",
    "* 3 = 243 / 24.3%  "
   ]
  },
  {
   "cell_type": "markdown",
   "id": "8121b573",
   "metadata": {},
   "source": [
    "**Witnesses, as a percentage, of fraud reported in insurance claims**  \n",
    "* 0 = 20.08%  \n",
    "* 1 = 24.42%  \n",
    "* 2 = 29.6%  \n",
    "* 3 = 24.69%  "
   ]
  },
  {
   "cell_type": "code",
   "execution_count": 344,
   "id": "6c7f490f",
   "metadata": {},
   "outputs": [
    {
     "data": {
      "image/png": "[encoded data removed]",
      "text/plain": [
       "<Figure size 640x480 with 1 Axes>"
      ]
     },
     "metadata": {},
     "output_type": "display_data"
    }
   ],
   "source": [
    "# Create new dataframe for fraud visualization\n",
    "witness = pd.DataFrame({\n",
    "    'Witness Group': ['0', '1', '2', '3'],\n",
    "    'Fraud Reported': [zero[1], one[1], two[1], three[1]],\n",
    "    'Not Reported': [zero[0], one[0], two[0], three[0]]\n",
    "})\n",
    "\n",
    "# plot the data\n",
    "witness.plot(x='Witness Group', y=['Fraud Reported'], kind='bar')\n",
    "plt.show()"
   ]
  },
  {
   "cell_type": "code",
   "execution_count": 339,
   "id": "fdf130fe",
   "metadata": {},
   "outputs": [
    {
     "name": "stdout",
     "output_type": "stream",
     "text": [
      "Percent of Witnesses Where Fraud Was Reported/Not Reported:\n",
      "Fraud           Percent   \n",
      "Reported        20.08%\n",
      "Not Reported    79.92%\n",
      "\n",
      "Number of Witnesses:\n",
      "249\n",
      "-------------------------------------------------------------------------------------\n"
     ]
    }
   ],
   "source": [
    "\"\"\"Witnesses, percentage of insurance claims where fraud was \n",
    "either reported or not reported as well as total of witnesses\"\"\"\n",
    "\n",
    "# Create/print variable for percentage of (fraud/no fraud) reported in claim group\n",
    "zero = df[df.witnesses == 0].fraud_reported.value_counts(normalize=1)\n",
    "print('Percent of Witnesses Where Fraud Was Reported/Not Reported:') \n",
    "print('{:<15} {:<10}'.format('Fraud', 'Percent')) \n",
    "print('{:<15} {:.2%}'.format('Reported', zero[1])) \n",
    "print('{:<15} {:.2%}'.format('Not Reported', zero[0])) \n",
    "\n",
    "# Number of Witnesses \n",
    "print('\\nNumber of Witnesses(0):')  \n",
    "print((df.witnesses == 0).sum()) \n",
    "print('-------------------------------------------------------------------------------------')"
   ]
  },
  {
   "cell_type": "code",
   "execution_count": 340,
   "id": "16150614",
   "metadata": {},
   "outputs": [
    {
     "name": "stdout",
     "output_type": "stream",
     "text": [
      "Percent of Witnesses Where Fraud Was Reported/Not Reported:\n",
      "Fraud           Percent   \n",
      "Reported        24.42%\n",
      "Not Reported    75.58%\n",
      "\n",
      "Number of Witnesses:\n",
      "258\n",
      "-------------------------------------------------------------------------------------\n"
     ]
    }
   ],
   "source": [
    "\"\"\"Witnesses, percentage of insurance claims where fraud was \n",
    "either reported or not reported as well as total of witnesses\"\"\"\n",
    "\n",
    "# Create/print variable for percentage of (fraud/no fraud) reported in claim group\n",
    "one = df[df.witnesses == 1].fraud_reported.value_counts(normalize=1)\n",
    "print('Percent of Witnesses Where Fraud Was Reported/Not Reported:') \n",
    "print('{:<15} {:<10}'.format('Fraud', 'Percent')) \n",
    "print('{:<15} {:.2%}'.format('Reported', one[1])) \n",
    "print('{:<15} {:.2%}'.format('Not Reported', one[0])) \n",
    "\n",
    "# Number of Witnesses \n",
    "print('\\nNumber of Witnesses(1):')  \n",
    "print((df.witnesses == 1).sum()) \n",
    "print('-------------------------------------------------------------------------------------')"
   ]
  },
  {
   "cell_type": "code",
   "execution_count": 341,
   "id": "5df64af5",
   "metadata": {},
   "outputs": [
    {
     "name": "stdout",
     "output_type": "stream",
     "text": [
      "Percent of Witnesses Where Fraud Was Reported/Not Reported:\n",
      "Fraud           Percent   \n",
      "Reported        29.60%\n",
      "Not Reported    70.40%\n",
      "\n",
      "Number of Witnesses:\n",
      "250\n",
      "-------------------------------------------------------------------------------------\n"
     ]
    }
   ],
   "source": [
    "\"\"\"Witnesses, percentage of insurance claims where fraud was \n",
    "either reported or not reported as well as total of witnesses\"\"\"\n",
    "\n",
    "# Create/print variable for percentage of (fraud/no fraud) reported in claim group\n",
    "two = df[df.witnesses == 2].fraud_reported.value_counts(normalize=1)\n",
    "print('Percent of Witnesses Where Fraud Was Reported/Not Reported:') \n",
    "print('{:<15} {:<10}'.format('Fraud', 'Percent')) \n",
    "print('{:<15} {:.2%}'.format('Reported', two[1])) \n",
    "print('{:<15} {:.2%}'.format('Not Reported', two[0])) \n",
    "\n",
    "# Number of Witnesses\n",
    "print('\\nNumber of Witnesses(2):')  \n",
    "print((df.witnesses == 2).sum()) \n",
    "print('-------------------------------------------------------------------------------------')"
   ]
  },
  {
   "cell_type": "code",
   "execution_count": 342,
   "id": "b9c0f5e8",
   "metadata": {},
   "outputs": [
    {
     "name": "stdout",
     "output_type": "stream",
     "text": [
      "Percent of Witnesses Where Fraud Was Reported/Not Reported:\n",
      "Fraud           Percent   \n",
      "Reported        24.69%\n",
      "Not Reported    75.31%\n",
      "\n",
      "Number of Witnesses(3):\n",
      "243\n",
      "-------------------------------------------------------------------------------------\n"
     ]
    }
   ],
   "source": [
    "\"\"\"Witnesses, percentage of insurance claims where fraud was \n",
    "either reported or not reported as well as total of witnesses\"\"\"\n",
    "\n",
    "# Create/print variable for percentage of (fraud/no fraud) reported in claim group\n",
    "three = df[df.witnesses == 3].fraud_reported.value_counts(normalize=1)\n",
    "print('Percent of Witnesses Where Fraud Was Reported/Not Reported:') \n",
    "print('{:<15} {:<10}'.format('Fraud', 'Percent')) \n",
    "print('{:<15} {:.2%}'.format('Reported', three[1])) \n",
    "print('{:<15} {:.2%}'.format('Not Reported', three[0])) \n",
    "\n",
    "# Number of Witnesses\n",
    "print('\\nNumber of Witnesses(3):')  \n",
    "print((df.witnesses == 3).sum()) \n",
    "print('-------------------------------------------------------------------------------------')"
   ]
  },
  {
   "cell_type": "markdown",
   "id": "f239a594",
   "metadata": {},
   "source": [
    "# Total Claim Amount Analysis"
   ]
  },
  {
   "cell_type": "markdown",
   "id": "5fefbf75",
   "metadata": {},
   "source": [
    "**Segment claims of insured, in 25k segments, to identify possible trends of fraud and visualize data**"
   ]
  },
  {
   "cell_type": "markdown",
   "id": "8c5a19b4",
   "metadata": {},
   "source": [
    "**Claims group with highest rate of fraud reported**  \n",
    "* <= 25k = 9.3%  \n",
    "* 25k - 50k = 21.88%  \n",
    "* 50k - 75k = 30.84%  \n",
    "* 75k - 100k = 26.97%   \n",
    "* 100k+ = 23.08%"
   ]
  },
  {
   "cell_type": "code",
   "execution_count": 362,
   "id": "031a2eb7",
   "metadata": {},
   "outputs": [
    {
     "data": {
      "image/png": "[encoded data removed]",
      "text/plain": [
       "<Figure size 640x480 with 1 Axes>"
      ]
     },
     "metadata": {},
     "output_type": "display_data"
    }
   ],
   "source": [
    "# Create new dataframe for fraud visualization\n",
    "claims = pd.DataFrame({\n",
    "    'Claim Group': ['25k', '25k - 50k', '50k - 75k', '75k - 100k', '100k+'],\n",
    "    'Fraud Reported': [first[1], second[1], third[1], forth[1], fifth[1]],\n",
    "    'Not Reported': [first[0], second[0], third[0], forth[0], fifth[0]]\n",
    "})\n",
    "\n",
    "# plot the data\n",
    "claims.plot(x='Claim Group', y=['Fraud Reported'], kind='bar')\n",
    "plt.show()"
   ]
  },
  {
   "cell_type": "code",
   "execution_count": 356,
   "id": "c6daf235",
   "metadata": {},
   "outputs": [
    {
     "name": "stdout",
     "output_type": "stream",
     "text": [
      "Percent of Claim Amount Group (<$25k) Where Fraud Was Reported/Not Reported:\n",
      "Fraud           Percent   \n",
      "Reported        9.34%\n",
      "Not Reported    90.66%\n",
      "\n",
      "Number of Claims in Group:\n",
      "182\n",
      "-------------------------------------------------------------------------------------\n"
     ]
    }
   ],
   "source": [
    "\"\"\"Total claim amount, where fraud was either reported or not reported as well as the count\"\"\"\n",
    "\n",
    "# Create/print variable for percentage of (fraud/no fraud) reported in claim group\n",
    "first = df[(df.total_claim_amount <= 25000)].fraud_reported.value_counts(normalize=1)\n",
    "print('Percent of Claim Amount Group (<$25k) Where Fraud Was Reported/Not Reported:') \n",
    "print('{:<15} {:<10}'.format('Fraud', 'Percent')) \n",
    "print('{:<15} {:.2%}'.format('Reported', first[1])) \n",
    "print('{:<15} {:.2%}'.format('Not Reported', first[0])) \n",
    "\n",
    "# Number of Claims in group\n",
    "print('\\nNumber of Claims in Group:')  \n",
    "print((df.total_claim_amount <= 25000).sum()) \n",
    "print('-------------------------------------------------------------------------------------')"
   ]
  },
  {
   "cell_type": "code",
   "execution_count": 358,
   "id": "180639e2",
   "metadata": {},
   "outputs": [
    {
     "name": "stdout",
     "output_type": "stream",
     "text": [
      "Percent of Claim Amount Group ($25k - $50k) Where Fraud Was Reported/Not Reported:\n",
      "Fraud           Percent   \n",
      "Reported        21.88%\n",
      "Not Reported    78.12%\n",
      "\n",
      "Number of Claims in Group:\n",
      "160\n",
      "-------------------------------------------------------------------------------------\n"
     ]
    }
   ],
   "source": [
    "\"\"\"Total claim amount, where fraud was either reported or not reported as well as the count\"\"\"\n",
    "\n",
    "\n",
    "# Create/print variable for percentage of (fraud/no fraud) reported in claim group\n",
    "second = df[(df.total_claim_amount >= 25001) & (df.total_claim_amount <= 50000)].fraud_reported.value_counts(normalize=1) \n",
    "print('Percent of Claim Amount Group ($25k - $50k) Where Fraud Was Reported/Not Reported:') \n",
    "print('{:<15} {:<10}'.format('Fraud', 'Percent')) \n",
    "print('{:<15} {:.2%}'.format('Reported', second[1])) \n",
    "print('{:<15} {:.2%}'.format('Not Reported', second[0])) \n",
    "\n",
    "# Number of Witnesses\n",
    "print('\\nNumber of Claims in Group:')  \n",
    "print(((df.total_claim_amount >= 25001) & (df.total_claim_amount <= 50000)).sum()) \n",
    "print('-------------------------------------------------------------------------------------')"
   ]
  },
  {
   "cell_type": "code",
   "execution_count": 359,
   "id": "30a050c3",
   "metadata": {},
   "outputs": [
    {
     "name": "stdout",
     "output_type": "stream",
     "text": [
      "Percent of Claim Amount Group ($50k - $75k) Where Fraud Was Reported/Not Reported:\n",
      "Fraud           Percent   \n",
      "Reported        30.84%\n",
      "Not Reported    69.16%\n",
      "\n",
      "Number of Claims in Group:\n",
      "467\n",
      "-------------------------------------------------------------------------------------\n"
     ]
    }
   ],
   "source": [
    "\"\"\"Total claim amount, where fraud was either reported or not reported as well as the count\"\"\"\n",
    "\n",
    "\n",
    "# Create/print variable for percentage of (fraud/no fraud) reported in claim group\n",
    "third = df[(df.total_claim_amount >= 50001) & (df.total_claim_amount <= 75000)].fraud_reported.value_counts(normalize=1) \n",
    "print('Percent of Claim Amount Group ($50k - $75k) Where Fraud Was Reported/Not Reported:') \n",
    "print('{:<15} {:<10}'.format('Fraud', 'Percent')) \n",
    "print('{:<15} {:.2%}'.format('Reported', third[1])) \n",
    "print('{:<15} {:.2%}'.format('Not Reported', third[0])) \n",
    "\n",
    "# Number of Witnesses\n",
    "print('\\nNumber of Claims in Group:')  \n",
    "print(((df.total_claim_amount >= 50001) & (df.total_claim_amount <= 75000)).sum()) \n",
    "print('-------------------------------------------------------------------------------------')"
   ]
  },
  {
   "cell_type": "code",
   "execution_count": 360,
   "id": "a701aa44",
   "metadata": {},
   "outputs": [
    {
     "name": "stdout",
     "output_type": "stream",
     "text": [
      "Percent of Claim Amount Group ($75k - $100k) Where Fraud Was Reported/Not Reported:\n",
      "Fraud           Percent   \n",
      "Reported        26.97%\n",
      "Not Reported    73.03%\n",
      "\n",
      "Number of Claims in Group:\n",
      "178\n",
      "-------------------------------------------------------------------------------------\n"
     ]
    }
   ],
   "source": [
    "\"\"\"Total claim amount, where fraud was either reported or not reported as well as the count\"\"\"\n",
    "\n",
    "\n",
    "# Create/print variable for percentage of (fraud/no fraud) reported in claim group\n",
    "forth = df[(df.total_claim_amount >= 75001) & (df.total_claim_amount <= 100000)].fraud_reported.value_counts(normalize=1) \n",
    "print('Percent of Claim Amount Group ($75k - $100k) Where Fraud Was Reported/Not Reported:') \n",
    "print('{:<15} {:<10}'.format('Fraud', 'Percent')) \n",
    "print('{:<15} {:.2%}'.format('Reported', forth[1])) \n",
    "print('{:<15} {:.2%}'.format('Not Reported', forth[0])) \n",
    "\n",
    "# Number of Witnesses\n",
    "print('\\nNumber of Claims in Group:')  \n",
    "print(((df.total_claim_amount >= 75001) & (df.total_claim_amount <= 100000)).sum()) \n",
    "print('-------------------------------------------------------------------------------------')"
   ]
  },
  {
   "cell_type": "code",
   "execution_count": 361,
   "id": "7a333f96",
   "metadata": {},
   "outputs": [
    {
     "name": "stdout",
     "output_type": "stream",
     "text": [
      "Percent of Claim Amount Group ($100k+) Where Fraud Was Reported/Not Reported:\n",
      "Fraud           Percent   \n",
      "Reported        23.08%\n",
      "Not Reported    76.92%\n",
      "\n",
      "Number of Claims in Group:\n",
      "13\n",
      "-------------------------------------------------------------------------------------\n"
     ]
    }
   ],
   "source": [
    "\"\"\"Total claim amount, where fraud was either reported or not reported as well as the count\"\"\"\n",
    "\n",
    "\n",
    "# Create/print variable for percentage of (fraud/no fraud) reported in claim group\n",
    "fifth = df[(df.total_claim_amount >= 100001)].fraud_reported.value_counts(normalize=1) \n",
    "print('Percent of Claim Amount Group ($100k+) Where Fraud Was Reported/Not Reported:') \n",
    "print('{:<15} {:<10}'.format('Fraud', 'Percent')) \n",
    "print('{:<15} {:.2%}'.format('Reported', fifth[1])) \n",
    "print('{:<15} {:.2%}'.format('Not Reported', fifth[0])) \n",
    "\n",
    "# Number of Witnesses\n",
    "print('\\nNumber of Claims in Group:')  \n",
    "print((df.total_claim_amount >= 100001).sum()) \n",
    "print('-------------------------------------------------------------------------------------')"
   ]
  },
  {
   "cell_type": "markdown",
   "id": "ef592de1",
   "metadata": {},
   "source": [
    "# Collision Type Analysis"
   ]
  },
  {
   "cell_type": "markdown",
   "id": "cb145d22",
   "metadata": {},
   "source": [
    "**Segment collision types to identify possible trends of fraud and visualize data**"
   ]
  },
  {
   "cell_type": "markdown",
   "id": "984c5f9c",
   "metadata": {},
   "source": [
    "**Collision Type with highest rate of fraud reported as a number and percentage**\n",
    "\n",
    "* Rear Collision = 292 / 31.16%\n",
    "* Side Collision = 276 / 25.36% \n",
    "* Front Collision = 254 / 27.56%\n",
    "* Unknown Collision = 178 / 8.99%\n",
    "\n"
   ]
  },
  {
   "cell_type": "code",
   "execution_count": null,
   "id": "31a72dfb",
   "metadata": {},
   "outputs": [],
   "source": [
    "# Create new dataframe for fraud visualization\n",
    "fraud_df = pd.DataFrame({\n",
    "    'Age Group': ['<= 30', '31-40', '41-50', '51-60', '>= 61'],\n",
    "    'Fraud Reported': [fraud_counts[1], fraud_counts1[1], fraud_counts2[1], fraud_counts3[1], fraud_counts4[1]],\n",
    "    'Not Reported': [fraud_counts[0], fraud_counts1[0], fraud_counts2[0], fraud_counts3[0], fraud_counts4[0]]\n",
    "})\n",
    "\n",
    "# plot the data\n",
    "fraud_df.plot(x='Age Group', y=['Fraud Reported', 'Not Reported'], kind='bar')\n",
    "plt.show()"
   ]
  },
  {
   "cell_type": "code",
   "execution_count": 374,
   "id": "62a4e4ec",
   "metadata": {},
   "outputs": [
    {
     "data": {
      "text/plain": [
       "Rear Collision     292\n",
       "Side Collision     276\n",
       "Front Collision    254\n",
       "?                  178\n",
       "Name: collision_type, dtype: int64"
      ]
     },
     "execution_count": 374,
     "metadata": {},
     "output_type": "execute_result"
    }
   ],
   "source": [
    "df.collision_type.value_counts()"
   ]
  },
  {
   "cell_type": "code",
   "execution_count": 391,
   "id": "710caf20",
   "metadata": {},
   "outputs": [
    {
     "name": "stdout",
     "output_type": "stream",
     "text": [
      "Rear Collisions Where Fraud Was Reported/Not Reported:\n",
      "Fraud           Percent   \n",
      "Reported        31.16%\n",
      "Reported        68.84%\n",
      "\n",
      "Number in Rear Collisions Group:\n",
      "292\n",
      "-------------------------------------------------------------------------------------\n"
     ]
    }
   ],
   "source": [
    "\"\"\"Collision Type where fraud was either reported or not reported as well as the count\"\"\"\n",
    "\n",
    "# Create/print variable for percentage of (fraud/no fraud) reported in claim group\n",
    "rear = df[df.collision_type == 'Rear Collision'].fraud_reported.value_counts(normalize=1)\n",
    "print('Rear Collisions Where Fraud Was Reported/Not Reported:') \n",
    "print('{:<15} {:<10}'.format('Fraud', 'Percent')) \n",
    "print('{:<15} {:.2%}'.format('Reported', rear[1]))\n",
    "print('{:<15} {:.2%}'.format('Reported', rear[0]))\n",
    "\n",
    "\n",
    "print('\\nNumber in Rear Collisions Group:')  \n",
    "print((df.collision_type == 'Rear Collision').sum()) \n",
    "print('-------------------------------------------------------------------------------------')\n"
   ]
  },
  {
   "cell_type": "code",
   "execution_count": 389,
   "id": "985e5eb7",
   "metadata": {},
   "outputs": [
    {
     "name": "stdout",
     "output_type": "stream",
     "text": [
      "Side Collisions Where Fraud Was Reported/Not Reported:\n",
      "Fraud           Percent   \n",
      "Reported        25.36%\n",
      "Reported        74.64%\n",
      "\n",
      "Number in Side Collisions Group:\n",
      "292\n",
      "-------------------------------------------------------------------------------------\n"
     ]
    }
   ],
   "source": [
    "\"\"\"Collision Type where fraud was either reported or not reported as well as the count\"\"\"\n",
    "\n",
    "# Create/print variable for percentage of (fraud/no fraud) reported in claim group\n",
    "side = df[df.collision_type == 'Side Collision'].fraud_reported.value_counts(normalize=1)\n",
    "print('Side Collisions Where Fraud Was Reported/Not Reported:') \n",
    "print('{:<15} {:<10}'.format('Fraud', 'Percent')) \n",
    "print('{:<15} {:.2%}'.format('Reported', side[1]))\n",
    "print('{:<15} {:.2%}'.format('Reported', side[0]))\n",
    "\n",
    "print('\\nNumber in Side Collisions Group:')  \n",
    "print((df.collision_type == 'Rear Collision').sum()) \n",
    "print('-------------------------------------------------------------------------------------')"
   ]
  },
  {
   "cell_type": "code",
   "execution_count": 390,
   "id": "22f2effd",
   "metadata": {},
   "outputs": [
    {
     "name": "stdout",
     "output_type": "stream",
     "text": [
      "Front Collisions Where Fraud Was Reported/Not Reported:\n",
      "Fraud           Percent   \n",
      "Reported        27.56%\n",
      "Reported        72.44%\n",
      "\n",
      "Number in Front Collisions Group:\n",
      "254\n",
      "-------------------------------------------------------------------------------------\n"
     ]
    }
   ],
   "source": [
    "\"\"\"Collision Type where fraud was either reported or not reported as well as the count\"\"\"\n",
    "\n",
    "# Create/print variable for percentage of (fraud/no fraud) reported in claim group\n",
    "front = df[df.collision_type == 'Front Collision'].fraud_reported.value_counts(normalize=1)\n",
    "print('Front Collisions Where Fraud Was Reported/Not Reported:') \n",
    "print('{:<15} {:<10}'.format('Fraud', 'Percent')) \n",
    "print('{:<15} {:.2%}'.format('Reported', front[1]))\n",
    "print('{:<15} {:.2%}'.format('Reported', front[0]))\n",
    "\n",
    "print('\\nNumber in Front Collisions Group:')  \n",
    "print((df.collision_type == 'Front Collision').sum()) \n",
    "print('-------------------------------------------------------------------------------------')"
   ]
  },
  {
   "cell_type": "code",
   "execution_count": 392,
   "id": "69f9b456",
   "metadata": {},
   "outputs": [
    {
     "name": "stdout",
     "output_type": "stream",
     "text": [
      "Unknown Collisions Types Where Fraud Was Reported/Not Reported:\n",
      "Fraud           Percent   \n",
      "Reported        8.99%\n",
      "Reported        91.01%\n",
      "\n",
      "Number in Unknown Collisions Group:\n",
      "292\n",
      "-------------------------------------------------------------------------------------\n"
     ]
    }
   ],
   "source": [
    "\"\"\"Collision Type where fraud was either reported or not reported as well as the count\"\"\"\n",
    "\n",
    "# Create/print variable for percentage of (fraud/no fraud) reported in claim group\n",
    "na = df[df.collision_type == '?'].fraud_reported.value_counts(normalize=1)\n",
    "print('Unknown Collisions Types Where Fraud Was Reported/Not Reported:') \n",
    "print('{:<15} {:<10}'.format('Fraud', 'Percent')) \n",
    "print('{:<15} {:.2%}'.format('Reported', na[1]))\n",
    "print('{:<15} {:.2%}'.format('Reported', na[0]))\n",
    "\n",
    "print('\\nNumber in Unknown Collisions Group:')  \n",
    "print((df.collision_type == 'Rear Collision').sum()) \n",
    "print('-------------------------------------------------------------------------------------')"
   ]
  }
 ],
 "metadata": {
  "hide_input": true,
  "kernelspec": {
   "display_name": "Python 3 (ipykernel)",
   "language": "python",
   "name": "python3"
  },
  "language_info": {
   "codemirror_mode": {
    "name": "ipython",
    "version": 3
   },
   "file_extension": ".py",
   "mimetype": "text/x-python",
   "name": "python",
   "nbconvert_exporter": "python",
   "pygments_lexer": "ipython3",
   "version": "3.9.13"
  },
  "toc": {
   "base_numbering": 1,
   "nav_menu": {},
   "number_sections": true,
   "sideBar": true,
   "skip_h1_title": false,
   "title_cell": "Table of Contents",
   "title_sidebar": "Contents",
   "toc_cell": false,
   "toc_position": {},
   "toc_section_display": true,
   "toc_window_display": false
  }
 },
 "nbformat": 4,
 "nbformat_minor": 5
}
